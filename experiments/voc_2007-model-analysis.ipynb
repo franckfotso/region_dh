{
 "cells": [
  {
   "cell_type": "code",
   "execution_count": 1,
   "metadata": {},
   "outputs": [],
   "source": [
    "import _init_paths\n",
    "import os, sys, cv2, pickle\n",
    "import os.path as osp\n",
    "import numpy as np\n",
    "import tensorflow as tf\n",
    "import matplotlib.pyplot as plt\n",
    "import numpy.random as npr\n",
    "import pandas as pd\n",
    "\n",
    "from Config import Config\n",
    "from datasets.Pascal import Pascal\n",
    "from datasets.ROIGenerator import ROIGenerator\n",
    "from nets.VGG16_SSDH import VGG16_SSDH\n",
    "from nets.VGG16_FT import VGG16_FT"
   ]
  },
  {
   "cell_type": "code",
   "execution_count": 2,
   "metadata": {},
   "outputs": [],
   "source": [
    "# setup & load configs\n",
    "_C = Config(config_pn=\"../config/config.ini\")\n",
    "cfg = _C.cfg"
   ]
  },
  {
   "cell_type": "code",
   "execution_count": 3,
   "metadata": {},
   "outputs": [],
   "source": [
    "ds_name = \"voc_2007\"\n",
    "#model_pn = \"../outputs/voc_2007/train_VGG16/VGG16_SSDH_iter_9396_acc_0.944.ckpt\" # try 1\n",
    "#model_pn = \"../outputs_G1/voc_2007/train_VGG16/VGG16_SSDH_iter_9396_acc_0.977.ckpt\" # try 2\n",
    "#model_pn = \"../outputs/voc_2007/train_VGG16/VGG16_SSDH_iter_9396_acc_0.937.ckpt\" # try 3\n",
    "model_pn = \"../../0-bak/20180804_voc_2007_SSDH.WL2/outputs/voc_2007/train_VGG16/VGG16_SSDH_iter_9396_acc_0.907.ckpt\" # try 4\n",
    "#model_pn = \"../outputs/voc_2007/train_VGG16/VGG16_SSDH_iter_9396_acc_0.907.ckpt\" # fc_emb, try 2\n",
    "#model_pn = \"../../0-bak/20180805_voc_2007_FT.WL5/outputs_G1/voc_2007/train_VGG16/VGG16_FT_iter_3132_acc_0.966.ckpt\" # try 5\n",
    "#model_pn = \"../outputs/voc_2007/train_VGG16/VGG16_FT_iter_9396_acc_0.981.ckpt\" # try 4"
   ]
  },
  {
   "cell_type": "code",
   "execution_count": 4,
   "metadata": {},
   "outputs": [
    {
     "name": "stdout",
     "output_type": "stream",
     "text": [
      "[INFO] dataset.name: voc_2007\n",
      "[INFO] dataset.num_cls: 21\n",
      "[INFO] dataset.train: 2501\n",
      "[INFO] dataset.trainval: 5011\n",
      "[INFO] dataset.test: 4952\n",
      "[INFO] dataset.val: 2510\n"
     ]
    }
   ],
   "source": [
    "dataset_DIR = osp.join(cfg.MAIN_DIR_ROOT, \"data\", ds_name)\n",
    "dataset = Pascal(name=ds_name, path_dir=dataset_DIR, cfg=cfg)\n",
    "dataset.load_sets()\n",
    "print ('[INFO] dataset.name: {}'.format(dataset.name))\n",
    "print ('[INFO] dataset.num_cls: {}'.format(dataset.num_cls))\n",
    "print ('[INFO] dataset.train: {}'.format(dataset.sets[\"train\"][\"num_items\"]))\n",
    "print ('[INFO] dataset.trainval: {}'.format(dataset.sets[\"trainval\"][\"num_items\"]))\n",
    "print ('[INFO] dataset.test: {}'.format(dataset.sets[\"test\"][\"num_items\"]))\n",
    "print ('[INFO] dataset.val: {}'.format(dataset.sets[\"val\"][\"num_items\"]))"
   ]
  },
  {
   "cell_type": "code",
   "execution_count": 5,
   "metadata": {},
   "outputs": [
    {
     "name": "stdout",
     "output_type": "stream",
     "text": [
      "[INFO] loading gt rois for voc_2007...\n",
      "[INFO] images with gt loaded from /home/rfm/eclipse/python/region-dh/cache/voc_2007_gt_trainval_images.pkl\n",
      "[INFO] loading gt rois for voc_2007...\n",
      "[INFO] images with gt loaded from /home/rfm/eclipse/python/region-dh/cache/voc_2007_gt_test_images.pkl\n",
      "[INFO] train_images.num: 10022\n",
      "[INFO] val_images.num: 4952\n"
     ]
    }
   ],
   "source": [
    "train_images, pos_weights = dataset.load_gt_rois(gt_set=\"trainval\")\n",
    "val_images, _ = dataset.load_gt_rois(gt_set=\"test\")\n",
    "print ('[INFO] train_images.num: {}'.format(len(train_images)))\n",
    "print ('[INFO] val_images.num: {}'.format(len(val_images)))"
   ]
  },
  {
   "cell_type": "code",
   "execution_count": 6,
   "metadata": {},
   "outputs": [],
   "source": [
    "tfconfig = tf.ConfigProto(allow_soft_placement=True)\n",
    "tfconfig.gpu_options.allow_growth=True\n",
    "# init session\n",
    "sess = tf.Session(config=tfconfig)"
   ]
  },
  {
   "cell_type": "code",
   "execution_count": 7,
   "metadata": {},
   "outputs": [
    {
     "name": "stdout",
     "output_type": "stream",
     "text": [
      "pool5.shape:  (32, ?, ?, 512)\n",
      "fc7.shape:  (32, 1, 1, 4096)\n",
      "scores.shape:  (32, 20, 2)\n",
      "probs.shape:  (32, 20, 2)\n",
      "preds.shape:  (32, 20, 1)\n",
      "cls_score.shape:  (32, 20, 2)\n",
      "labels.shape:  (32, 20)\n",
      "pos_weight.shape:  (32, 1)\n",
      "labels.shape:  (32, 20)\n",
      "cls_pred.shape:  (32, 20, 1)\n"
     ]
    }
   ],
   "source": [
    "cfg.TEST_BATCH_CFC_NUM_IMG = 1\n",
    "num_bits = 48\n",
    "net = VGG16_SSDH(cfg, num_bits, multilabel=True)\n",
    "#net = VGG16_FT(cfg, multilabel=True)\n",
    "#net.create_architecture('TEST', dataset.num_cls, tag='default')\n",
    "layers = net.create_architecture('TRAIN', dataset.num_cls, tag='default')"
   ]
  },
  {
   "cell_type": "code",
   "execution_count": 8,
   "metadata": {},
   "outputs": [
    {
     "data": {
      "text/plain": [
       "{'loss_E1': <tf.Tensor 'LOSS_default/add_19:0' shape=() dtype=float32>,\n",
       " 'loss_E2': <tf.Tensor 'LOSS_default/mul_1:0' shape=() dtype=float32>,\n",
       " 'loss_E3': <tf.Tensor 'LOSS_default/mul_2:0' shape=() dtype=float32>,\n",
       " 'total_loss': <tf.Tensor 'LOSS_default/total_loss:0' shape=() dtype=float32>,\n",
       " 'fc_emb': <tf.Tensor 'vgg_16_2/fc_emb/Sigmoid:0' shape=(32, 1, 1, 48) dtype=float32>,\n",
       " 'cls_score': <tf.Tensor 'vgg_16_2/scores:0' shape=(32, 20, 2) dtype=float32>,\n",
       " 'cls_prob': <tf.Tensor 'vgg_16_2/probs:0' shape=(32, 20, 2) dtype=float32>,\n",
       " 'cls_pred': <tf.Tensor 'vgg_16_2/preds:0' shape=(32, 20, 1) dtype=int64>}"
      ]
     },
     "execution_count": 8,
     "metadata": {},
     "output_type": "execute_result"
    }
   ],
   "source": [
    "layers"
   ]
  },
  {
   "cell_type": "code",
   "execution_count": 10,
   "metadata": {},
   "outputs": [],
   "source": [
    "loss = layers['total_loss']"
   ]
  },
  {
   "cell_type": "code",
   "execution_count": 11,
   "metadata": {},
   "outputs": [],
   "source": [
    "lr = tf.Variable(0.001, trainable=False)\n",
    "opt1 = tf.train.MomentumOptimizer(lr*0.001, 0.9)\n",
    "opt2 = tf.train.MomentumOptimizer(lr, 0.9)"
   ]
  },
  {
   "cell_type": "code",
   "execution_count": 9,
   "metadata": {},
   "outputs": [
    {
     "data": {
      "text/plain": [
       "[<tf.Variable 'vgg_16/fc6/weights:0' shape=(7, 7, 512, 4096) dtype=float32_ref>,\n",
       " <tf.Variable 'vgg_16/fc6/biases:0' shape=(4096,) dtype=float32_ref>,\n",
       " <tf.Variable 'vgg_16/fc7/weights:0' shape=(1, 1, 4096, 4096) dtype=float32_ref>,\n",
       " <tf.Variable 'vgg_16/fc7/biases:0' shape=(4096,) dtype=float32_ref>,\n",
       " <tf.Variable 'vgg_16/fc_emb/weights:0' shape=(1, 1, 4096, 48) dtype=float32_ref>,\n",
       " <tf.Variable 'vgg_16/fc_emb/biases:0' shape=(48,) dtype=float32_ref>,\n",
       " <tf.Variable 'vgg_16/cls_score0/weights:0' shape=(48, 2) dtype=float32_ref>,\n",
       " <tf.Variable 'vgg_16/cls_score0/biases:0' shape=(2,) dtype=float32_ref>,\n",
       " <tf.Variable 'vgg_16/cls_score1/weights:0' shape=(48, 2) dtype=float32_ref>,\n",
       " <tf.Variable 'vgg_16/cls_score1/biases:0' shape=(2,) dtype=float32_ref>,\n",
       " <tf.Variable 'vgg_16/cls_score2/weights:0' shape=(48, 2) dtype=float32_ref>,\n",
       " <tf.Variable 'vgg_16/cls_score2/biases:0' shape=(2,) dtype=float32_ref>,\n",
       " <tf.Variable 'vgg_16/cls_score3/weights:0' shape=(48, 2) dtype=float32_ref>,\n",
       " <tf.Variable 'vgg_16/cls_score3/biases:0' shape=(2,) dtype=float32_ref>,\n",
       " <tf.Variable 'vgg_16/cls_score4/weights:0' shape=(48, 2) dtype=float32_ref>,\n",
       " <tf.Variable 'vgg_16/cls_score4/biases:0' shape=(2,) dtype=float32_ref>,\n",
       " <tf.Variable 'vgg_16/cls_score5/weights:0' shape=(48, 2) dtype=float32_ref>,\n",
       " <tf.Variable 'vgg_16/cls_score5/biases:0' shape=(2,) dtype=float32_ref>,\n",
       " <tf.Variable 'vgg_16/cls_score6/weights:0' shape=(48, 2) dtype=float32_ref>,\n",
       " <tf.Variable 'vgg_16/cls_score6/biases:0' shape=(2,) dtype=float32_ref>,\n",
       " <tf.Variable 'vgg_16/cls_score7/weights:0' shape=(48, 2) dtype=float32_ref>,\n",
       " <tf.Variable 'vgg_16/cls_score7/biases:0' shape=(2,) dtype=float32_ref>,\n",
       " <tf.Variable 'vgg_16/cls_score8/weights:0' shape=(48, 2) dtype=float32_ref>,\n",
       " <tf.Variable 'vgg_16/cls_score8/biases:0' shape=(2,) dtype=float32_ref>,\n",
       " <tf.Variable 'vgg_16/cls_score9/weights:0' shape=(48, 2) dtype=float32_ref>,\n",
       " <tf.Variable 'vgg_16/cls_score9/biases:0' shape=(2,) dtype=float32_ref>,\n",
       " <tf.Variable 'vgg_16/cls_score10/weights:0' shape=(48, 2) dtype=float32_ref>,\n",
       " <tf.Variable 'vgg_16/cls_score10/biases:0' shape=(2,) dtype=float32_ref>,\n",
       " <tf.Variable 'vgg_16/cls_score11/weights:0' shape=(48, 2) dtype=float32_ref>,\n",
       " <tf.Variable 'vgg_16/cls_score11/biases:0' shape=(2,) dtype=float32_ref>,\n",
       " <tf.Variable 'vgg_16/cls_score12/weights:0' shape=(48, 2) dtype=float32_ref>,\n",
       " <tf.Variable 'vgg_16/cls_score12/biases:0' shape=(2,) dtype=float32_ref>,\n",
       " <tf.Variable 'vgg_16/cls_score13/weights:0' shape=(48, 2) dtype=float32_ref>,\n",
       " <tf.Variable 'vgg_16/cls_score13/biases:0' shape=(2,) dtype=float32_ref>,\n",
       " <tf.Variable 'vgg_16/cls_score14/weights:0' shape=(48, 2) dtype=float32_ref>,\n",
       " <tf.Variable 'vgg_16/cls_score14/biases:0' shape=(2,) dtype=float32_ref>,\n",
       " <tf.Variable 'vgg_16/cls_score15/weights:0' shape=(48, 2) dtype=float32_ref>,\n",
       " <tf.Variable 'vgg_16/cls_score15/biases:0' shape=(2,) dtype=float32_ref>,\n",
       " <tf.Variable 'vgg_16/cls_score16/weights:0' shape=(48, 2) dtype=float32_ref>,\n",
       " <tf.Variable 'vgg_16/cls_score16/biases:0' shape=(2,) dtype=float32_ref>,\n",
       " <tf.Variable 'vgg_16/cls_score17/weights:0' shape=(48, 2) dtype=float32_ref>,\n",
       " <tf.Variable 'vgg_16/cls_score17/biases:0' shape=(2,) dtype=float32_ref>,\n",
       " <tf.Variable 'vgg_16/cls_score18/weights:0' shape=(48, 2) dtype=float32_ref>,\n",
       " <tf.Variable 'vgg_16/cls_score18/biases:0' shape=(2,) dtype=float32_ref>,\n",
       " <tf.Variable 'vgg_16/cls_score19/weights:0' shape=(48, 2) dtype=float32_ref>,\n",
       " <tf.Variable 'vgg_16/cls_score19/biases:0' shape=(2,) dtype=float32_ref>]"
      ]
     },
     "execution_count": 9,
     "metadata": {},
     "output_type": "execute_result"
    }
   ],
   "source": [
    "tf.trainable_variables()"
   ]
  },
  {
   "cell_type": "code",
   "execution_count": 13,
   "metadata": {},
   "outputs": [],
   "source": [
    "var_list = [v.name for v in tf.trainable_variables()]"
   ]
  },
  {
   "cell_type": "code",
   "execution_count": 14,
   "metadata": {},
   "outputs": [
    {
     "data": {
      "text/plain": [
       "['vgg_16/fc6/weights:0',\n",
       " 'vgg_16/fc6/biases:0',\n",
       " 'vgg_16/fc7/weights:0',\n",
       " 'vgg_16/fc7/biases:0',\n",
       " 'vgg_16/fc_emb/weights:0',\n",
       " 'vgg_16/fc_emb/biases:0',\n",
       " 'vgg_16/cls_score/weights:0',\n",
       " 'vgg_16/cls_score/biases:0']"
      ]
     },
     "execution_count": 14,
     "metadata": {},
     "output_type": "execute_result"
    }
   ],
   "source": [
    "var_list"
   ]
  },
  {
   "cell_type": "code",
   "execution_count": 17,
   "metadata": {},
   "outputs": [],
   "source": [
    "layers_1 = ['vgg_16/fc6/weights:0', 'vgg_16/fc7/weights:0']\n",
    "layers_2 = ['vgg_16/fc_emb/weights:0', 'vgg_16/cls_scores/weights:0']"
   ]
  },
  {
   "cell_type": "code",
   "execution_count": 18,
   "metadata": {},
   "outputs": [],
   "source": [
    "grads = tf.gradients(loss, layers_1+layers_2)\n",
    "optimizer.compute_gradients(loss)"
   ]
  },
  {
   "cell_type": "code",
   "execution_count": 20,
   "metadata": {},
   "outputs": [],
   "source": [
    "grads1 = grads[:len(layers_1)]\n",
    "grads2 = grads[len(layers_1):]"
   ]
  },
  {
   "cell_type": "code",
   "execution_count": null,
   "metadata": {},
   "outputs": [],
   "source": []
  },
  {
   "cell_type": "code",
   "execution_count": null,
   "metadata": {},
   "outputs": [],
   "source": []
  },
  {
   "cell_type": "code",
   "execution_count": 9,
   "metadata": {},
   "outputs": [
    {
     "name": "stdout",
     "output_type": "stream",
     "text": [
      "Loading model check point from ../outputs/voc_2007/train_VGG16/VGG16_FT_iter_9396_acc_0.981.ckpt\n",
      "INFO:tensorflow:Restoring parameters from ../outputs/voc_2007/train_VGG16/VGG16_FT_iter_9396_acc_0.981.ckpt\n",
      "Loaded.\n"
     ]
    }
   ],
   "source": [
    "print(('Loading model check point from {:s}').format(model_pn))\n",
    "saver = tf.train.Saver()\n",
    "saver.restore(sess, model_pn)\n",
    "print('Loaded.')"
   ]
  },
  {
   "cell_type": "code",
   "execution_count": 10,
   "metadata": {},
   "outputs": [],
   "source": [
    "def im_classify(sess, net, image, data_gen):\n",
    "    random_scale_inds = npr.randint(0, high=len(cfg.TEST_DEFAULT_SCALES),size=1)\n",
    "    \n",
    "    im_blob, im_scales = data_gen.built_image_blob([image], random_scale_inds)\n",
    "    #label_blob = data_gen.built_label_blob([image])\n",
    "    \n",
    "    cls_score, cls_prob, cls_pred = net.test_image(sess, im_blob)\n",
    "    \n",
    "    return cls_score, cls_prob, cls_pred"
   ]
  },
  {
   "cell_type": "code",
   "execution_count": 11,
   "metadata": {},
   "outputs": [],
   "source": [
    "val_gen = ROIGenerator(val_images, dataset, None, cfg)"
   ]
  },
  {
   "cell_type": "code",
   "execution_count": 12,
   "metadata": {},
   "outputs": [],
   "source": []
  },
  {
   "cell_type": "code",
   "execution_count": 13,
   "metadata": {},
   "outputs": [
    {
     "name": "stdout",
     "output_type": "stream",
     "text": [
      "image.lp:  [0 0 1 0 0 0 0 0 0 0 0 0 0 0 0 0 0 0 0 0]\n",
      "image.labels:  ['bird']\n",
      "gt_classes:  [3]\n"
     ]
    },
    {
     "data": {
      "image/png": "[encoded data removed]",
      "text/plain": [
       "<Figure size 432x288 with 1 Axes>"
      ]
     },
     "metadata": {},
     "output_type": "display_data"
    }
   ],
   "source": [
    "# visualize image\n",
    "np.random.shuffle(val_images)\n",
    "image = val_images[0]\n",
    "im_RAW = cv2.imread(image.pathname)   \n",
    "im_RAW = cv2.cvtColor(im_RAW, cv2.COLOR_BGR2RGB)\n",
    "lp = image.rois[\"gt\"][\"labels\"]\n",
    "labels = lp_to_names(lp, dataset)\n",
    "gt_classes = image.rois[\"gt\"][\"gt_classes\"]\n",
    "print(\"image.lp: \", lp)\n",
    "print(\"image.labels: \", labels)\n",
    "print(\"gt_classes: \", gt_classes)\n",
    "plt.imshow(im_RAW)\n",
    "_ = plt.axis(\"off\")"
   ]
  },
  {
   "cell_type": "code",
   "execution_count": 14,
   "metadata": {},
   "outputs": [],
   "source": [
    "cls_score, cls_prob, cls_pred = im_classify(sess, net, image, val_gen)"
   ]
  },
  {
   "cell_type": "code",
   "execution_count": 15,
   "metadata": {},
   "outputs": [
    {
     "name": "stdout",
     "output_type": "stream",
     "text": [
      "labels:  ['bird', 'boat']\n",
      "probs:  [0.99994063 0.6344867 ]\n"
     ]
    }
   ],
   "source": [
    "labels = lp_to_names(cls_pred[0],dataset)\n",
    "keep = np.where(cls_pred[0] == 1)[-1]\n",
    "probs = cls_prob[0][keep]\n",
    "print(\"labels: \", labels)\n",
    "print(\"probs: \", probs)"
   ]
  },
  {
   "cell_type": "markdown",
   "metadata": {},
   "source": [
    "#### Evaluate val data"
   ]
  },
  {
   "cell_type": "code",
   "execution_count": 16,
   "metadata": {},
   "outputs": [
    {
     "name": "stdout",
     "output_type": "stream",
     "text": [
      "processed 0/4952\n",
      "[ALERT] exception on  006491.jpg\n",
      "[ALERT] exception on  004900.jpg\n",
      "processed 500/4952\n",
      "processed 1000/4952\n",
      "processed 1500/4952\n",
      "[ALERT] exception on  002018.jpg\n",
      "processed 2000/4952\n",
      "processed 2500/4952\n",
      "processed 3000/4952\n",
      "[ALERT] exception on  001744.jpg\n",
      "processed 3500/4952\n",
      "[ALERT] exception on  005137.jpg\n",
      "processed 4000/4952\n",
      "processed 4500/4952\n",
      "[ALERT] exception on  000533.jpg\n"
     ]
    }
   ],
   "source": [
    "cls_probs = []\n",
    "cls_preds = []\n",
    "all_lp = []\n",
    "all_labels = []\n",
    "filenames = []\n",
    "pathnames = []\n",
    "\n",
    "for i, image in enumerate(val_images):\n",
    "    if i%500 == 0:\n",
    "        print(\"processed {}/{}\".format(i, len(val_images)))\n",
    "    \n",
    "    #cls_score, cls_prob, cls_pred = im_classify(sess, net, image, val_gen)    \n",
    "    #\"\"\"\n",
    "    try:\n",
    "        cls_score, cls_prob, cls_pred = im_classify(sess, net, image, val_gen)\n",
    "    except:\n",
    "        print(\"[ALERT] exception on \", image.filename)\n",
    "        continue\n",
    "    #\"\"\"\n",
    "    filenames.append(image.filename)\n",
    "    pathnames.append(image.pathname)\n",
    "    lp = image.rois[\"gt\"][\"labels\"]\n",
    "    all_lp.append(lp)\n",
    "    labels = lp_to_names(lp, dataset)\n",
    "    all_labels.append(labels)    \n",
    "    cls_probs.append(cls_prob[0])\n",
    "    cls_preds.append(cls_pred[0])"
   ]
  },
  {
   "cell_type": "code",
   "execution_count": 17,
   "metadata": {},
   "outputs": [],
   "source": [
    "data = {\"filename\": filenames, \"pathname\": pathnames, \n",
    "       \"labels\": all_labels, \"lp\": all_lp, \"cls_pred\": cls_preds, \"cls_prob\": cls_probs}\n",
    "df_val_images = pd.DataFrame(data)"
   ]
  },
  {
   "cell_type": "code",
   "execution_count": 18,
   "metadata": {},
   "outputs": [
    {
     "data": {
      "text/html": [
       "<div>\n",
       "<style scoped>\n",
       "    .dataframe tbody tr th:only-of-type {\n",
       "        vertical-align: middle;\n",
       "    }\n",
       "\n",
       "    .dataframe tbody tr th {\n",
       "        vertical-align: top;\n",
       "    }\n",
       "\n",
       "    .dataframe thead th {\n",
       "        text-align: right;\n",
       "    }\n",
       "</style>\n",
       "<table border=\"1\" class=\"dataframe\">\n",
       "  <thead>\n",
       "    <tr style=\"text-align: right;\">\n",
       "      <th></th>\n",
       "      <th>filename</th>\n",
       "      <th>pathname</th>\n",
       "      <th>labels</th>\n",
       "      <th>lp</th>\n",
       "      <th>cls_pred</th>\n",
       "      <th>cls_prob</th>\n",
       "    </tr>\n",
       "  </thead>\n",
       "  <tbody>\n",
       "    <tr>\n",
       "      <th>0</th>\n",
       "      <td>007047.jpg</td>\n",
       "      <td>/home/rfm/eclipse/python/region-dh/data/voc_20...</td>\n",
       "      <td>[bird]</td>\n",
       "      <td>[0, 0, 1, 0, 0, 0, 0, 0, 0, 0, 0, 0, 0, 0, 0, ...</td>\n",
       "      <td>[0, 0, 1, 1, 0, 0, 0, 0, 0, 0, 0, 0, 0, 0, 0, ...</td>\n",
       "      <td>[5.4343753e-05, 0.011981717, 0.99994063, 0.634...</td>\n",
       "    </tr>\n",
       "    <tr>\n",
       "      <th>1</th>\n",
       "      <td>007986.jpg</td>\n",
       "      <td>/home/rfm/eclipse/python/region-dh/data/voc_20...</td>\n",
       "      <td>[person]</td>\n",
       "      <td>[0, 0, 0, 0, 0, 0, 0, 0, 0, 0, 0, 0, 0, 0, 1, ...</td>\n",
       "      <td>[0, 0, 0, 0, 1, 0, 0, 0, 0, 0, 0, 0, 0, 0, 1, ...</td>\n",
       "      <td>[0.00014627862, 0.002412237, 0.00016671969, 4....</td>\n",
       "    </tr>\n",
       "    <tr>\n",
       "      <th>2</th>\n",
       "      <td>006600.jpg</td>\n",
       "      <td>/home/rfm/eclipse/python/region-dh/data/voc_20...</td>\n",
       "      <td>[train]</td>\n",
       "      <td>[0, 0, 0, 0, 0, 0, 0, 0, 0, 0, 0, 0, 0, 0, 0, ...</td>\n",
       "      <td>[0, 0, 0, 0, 0, 1, 1, 0, 0, 0, 0, 0, 0, 0, 0, ...</td>\n",
       "      <td>[0.004191517, 0.0010109156, 1.7095743e-06, 0.0...</td>\n",
       "    </tr>\n",
       "    <tr>\n",
       "      <th>3</th>\n",
       "      <td>007596.jpg</td>\n",
       "      <td>/home/rfm/eclipse/python/region-dh/data/voc_20...</td>\n",
       "      <td>[dog, sheep]</td>\n",
       "      <td>[0, 0, 0, 0, 0, 0, 0, 0, 0, 0, 0, 1, 0, 0, 0, ...</td>\n",
       "      <td>[0, 0, 0, 0, 0, 0, 0, 0, 0, 0, 0, 0, 0, 0, 0, ...</td>\n",
       "      <td>[nan, nan, nan, nan, nan, nan, nan, nan, nan, ...</td>\n",
       "    </tr>\n",
       "    <tr>\n",
       "      <th>4</th>\n",
       "      <td>007929.jpg</td>\n",
       "      <td>/home/rfm/eclipse/python/region-dh/data/voc_20...</td>\n",
       "      <td>[person, sofa]</td>\n",
       "      <td>[0, 0, 0, 0, 0, 0, 0, 0, 0, 0, 0, 0, 0, 0, 1, ...</td>\n",
       "      <td>[0, 0, 0, 0, 0, 0, 0, 0, 0, 0, 0, 0, 0, 0, 1, ...</td>\n",
       "      <td>[7.023129e-05, 0.0004221355, 0.00015711923, 0....</td>\n",
       "    </tr>\n",
       "  </tbody>\n",
       "</table>\n",
       "</div>"
      ],
      "text/plain": [
       "     filename                                           pathname  \\\n",
       "0  007047.jpg  /home/rfm/eclipse/python/region-dh/data/voc_20...   \n",
       "1  007986.jpg  /home/rfm/eclipse/python/region-dh/data/voc_20...   \n",
       "2  006600.jpg  /home/rfm/eclipse/python/region-dh/data/voc_20...   \n",
       "3  007596.jpg  /home/rfm/eclipse/python/region-dh/data/voc_20...   \n",
       "4  007929.jpg  /home/rfm/eclipse/python/region-dh/data/voc_20...   \n",
       "\n",
       "           labels                                                 lp  \\\n",
       "0          [bird]  [0, 0, 1, 0, 0, 0, 0, 0, 0, 0, 0, 0, 0, 0, 0, ...   \n",
       "1        [person]  [0, 0, 0, 0, 0, 0, 0, 0, 0, 0, 0, 0, 0, 0, 1, ...   \n",
       "2         [train]  [0, 0, 0, 0, 0, 0, 0, 0, 0, 0, 0, 0, 0, 0, 0, ...   \n",
       "3    [dog, sheep]  [0, 0, 0, 0, 0, 0, 0, 0, 0, 0, 0, 1, 0, 0, 0, ...   \n",
       "4  [person, sofa]  [0, 0, 0, 0, 0, 0, 0, 0, 0, 0, 0, 0, 0, 0, 1, ...   \n",
       "\n",
       "                                            cls_pred  \\\n",
       "0  [0, 0, 1, 1, 0, 0, 0, 0, 0, 0, 0, 0, 0, 0, 0, ...   \n",
       "1  [0, 0, 0, 0, 1, 0, 0, 0, 0, 0, 0, 0, 0, 0, 1, ...   \n",
       "2  [0, 0, 0, 0, 0, 1, 1, 0, 0, 0, 0, 0, 0, 0, 0, ...   \n",
       "3  [0, 0, 0, 0, 0, 0, 0, 0, 0, 0, 0, 0, 0, 0, 0, ...   \n",
       "4  [0, 0, 0, 0, 0, 0, 0, 0, 0, 0, 0, 0, 0, 0, 1, ...   \n",
       "\n",
       "                                            cls_prob  \n",
       "0  [5.4343753e-05, 0.011981717, 0.99994063, 0.634...  \n",
       "1  [0.00014627862, 0.002412237, 0.00016671969, 4....  \n",
       "2  [0.004191517, 0.0010109156, 1.7095743e-06, 0.0...  \n",
       "3  [nan, nan, nan, nan, nan, nan, nan, nan, nan, ...  \n",
       "4  [7.023129e-05, 0.0004221355, 0.00015711923, 0....  "
      ]
     },
     "execution_count": 18,
     "metadata": {},
     "output_type": "execute_result"
    }
   ],
   "source": [
    "df_val_images.head()"
   ]
  },
  {
   "cell_type": "code",
   "execution_count": 19,
   "metadata": {},
   "outputs": [],
   "source": [
    "with open(\"../data/voc_2007/20180806_df_val_images_FT.wl4.pkl\",'wb') as fp:\n",
    "    pickle.dump(df_val_images, fp)"
   ]
  },
  {
   "cell_type": "code",
   "execution_count": 20,
   "metadata": {},
   "outputs": [],
   "source": [
    "cls_to_id = dataset.cls_to_id\n",
    "id_to_cls = {v:k for (k,v) in cls_to_id.items()}"
   ]
  },
  {
   "cell_type": "code",
   "execution_count": 21,
   "metadata": {},
   "outputs": [
    {
     "name": "stdout",
     "output_type": "stream",
     "text": [
      "(4946, 20)\n"
     ]
    }
   ],
   "source": [
    "targets = np.array(list(df_val_images[\"lp\"]))\n",
    "targets = np.reshape(targets, [targets.shape[0], -1])\n",
    "print(targets.shape)"
   ]
  },
  {
   "cell_type": "code",
   "execution_count": 22,
   "metadata": {},
   "outputs": [
    {
     "name": "stdout",
     "output_type": "stream",
     "text": [
      "(4946, 20)\n"
     ]
    }
   ],
   "source": [
    "preds = np.array(list(df_val_images[\"cls_pred\"]))\n",
    "preds = np.reshape(preds, [preds.shape[0], -1])\n",
    "print(preds.shape)"
   ]
  },
  {
   "cell_type": "code",
   "execution_count": 23,
   "metadata": {},
   "outputs": [],
   "source": [
    "from sklearn.metrics import precision_score, recall_score"
   ]
  },
  {
   "cell_type": "code",
   "execution_count": 24,
   "metadata": {},
   "outputs": [],
   "source": [
    "evals = {}\n",
    "mAP = 0\n",
    "\n",
    "for id_cls in range(targets.shape[1]):\n",
    "    prec = precision_score(targets[:, id_cls], preds[:, id_cls], average='weighted')\n",
    "    rec = recall_score(targets[:, id_cls], preds[:, id_cls], average='weighted')\n",
    "    \n",
    "    if prec <= 0 or rec <= 0:\n",
    "        f1_score = 0\n",
    "    else:\n",
    "        f1_score = 2*prec*prec/(prec+rec)\n",
    "        \n",
    "    evals[id_to_cls[id_cls+1]] = [f1_score]\n",
    "    mAP += f1_score\n",
    "    \n",
    "mAP = mAP/targets.shape[1]\n",
    "evals[\"mAP\"] = [mAP]\n",
    "    \n",
    "df_evals= pd.DataFrame(evals)"
   ]
  },
  {
   "cell_type": "code",
   "execution_count": 25,
   "metadata": {},
   "outputs": [
    {
     "data": {
      "text/html": [
       "<div>\n",
       "<style scoped>\n",
       "    .dataframe tbody tr th:only-of-type {\n",
       "        vertical-align: middle;\n",
       "    }\n",
       "\n",
       "    .dataframe tbody tr th {\n",
       "        vertical-align: top;\n",
       "    }\n",
       "\n",
       "    .dataframe thead th {\n",
       "        text-align: right;\n",
       "    }\n",
       "</style>\n",
       "<table border=\"1\" class=\"dataframe\">\n",
       "  <thead>\n",
       "    <tr style=\"text-align: right;\">\n",
       "      <th></th>\n",
       "      <th>aeroplane</th>\n",
       "      <th>bicycle</th>\n",
       "      <th>bird</th>\n",
       "      <th>boat</th>\n",
       "      <th>bottle</th>\n",
       "      <th>bus</th>\n",
       "      <th>car</th>\n",
       "      <th>cat</th>\n",
       "      <th>chair</th>\n",
       "      <th>cow</th>\n",
       "      <th>...</th>\n",
       "      <th>dog</th>\n",
       "      <th>horse</th>\n",
       "      <th>motorbike</th>\n",
       "      <th>person</th>\n",
       "      <th>pottedplant</th>\n",
       "      <th>sheep</th>\n",
       "      <th>sofa</th>\n",
       "      <th>train</th>\n",
       "      <th>tvmonitor</th>\n",
       "      <th>mAP</th>\n",
       "    </tr>\n",
       "  </thead>\n",
       "  <tbody>\n",
       "    <tr>\n",
       "      <th>0</th>\n",
       "      <td>0.993564</td>\n",
       "      <td>0.984142</td>\n",
       "      <td>0.988449</td>\n",
       "      <td>0.988804</td>\n",
       "      <td>0.958577</td>\n",
       "      <td>0.982673</td>\n",
       "      <td>0.93892</td>\n",
       "      <td>0.982594</td>\n",
       "      <td>0.935564</td>\n",
       "      <td>0.988532</td>\n",
       "      <td>...</td>\n",
       "      <td>0.971432</td>\n",
       "      <td>0.982737</td>\n",
       "      <td>0.98448</td>\n",
       "      <td>0.876345</td>\n",
       "      <td>0.959228</td>\n",
       "      <td>0.991144</td>\n",
       "      <td>0.951839</td>\n",
       "      <td>0.987339</td>\n",
       "      <td>0.971525</td>\n",
       "      <td>0.969693</td>\n",
       "    </tr>\n",
       "  </tbody>\n",
       "</table>\n",
       "<p>1 rows × 21 columns</p>\n",
       "</div>"
      ],
      "text/plain": [
       "   aeroplane   bicycle      bird      boat    bottle       bus      car  \\\n",
       "0   0.993564  0.984142  0.988449  0.988804  0.958577  0.982673  0.93892   \n",
       "\n",
       "        cat     chair       cow    ...          dog     horse  motorbike  \\\n",
       "0  0.982594  0.935564  0.988532    ...     0.971432  0.982737    0.98448   \n",
       "\n",
       "     person  pottedplant     sheep      sofa     train  tvmonitor       mAP  \n",
       "0  0.876345     0.959228  0.991144  0.951839  0.987339   0.971525  0.969693  \n",
       "\n",
       "[1 rows x 21 columns]"
      ]
     },
     "execution_count": 25,
     "metadata": {},
     "output_type": "execute_result"
    }
   ],
   "source": [
    "# wl.4\n",
    "df_evals.head()"
   ]
  },
  {
   "cell_type": "code",
   "execution_count": 26,
   "metadata": {},
   "outputs": [
    {
     "data": {
      "text/html": [
       "<div>\n",
       "<style scoped>\n",
       "    .dataframe tbody tr th:only-of-type {\n",
       "        vertical-align: middle;\n",
       "    }\n",
       "\n",
       "    .dataframe tbody tr th {\n",
       "        vertical-align: top;\n",
       "    }\n",
       "\n",
       "    .dataframe thead th {\n",
       "        text-align: right;\n",
       "    }\n",
       "</style>\n",
       "<table border=\"1\" class=\"dataframe\">\n",
       "  <thead>\n",
       "    <tr style=\"text-align: right;\">\n",
       "      <th></th>\n",
       "      <th>aeroplane</th>\n",
       "      <th>bicycle</th>\n",
       "      <th>bird</th>\n",
       "      <th>boat</th>\n",
       "      <th>bottle</th>\n",
       "      <th>bus</th>\n",
       "      <th>car</th>\n",
       "      <th>cat</th>\n",
       "      <th>chair</th>\n",
       "      <th>cow</th>\n",
       "      <th>...</th>\n",
       "      <th>dog</th>\n",
       "      <th>horse</th>\n",
       "      <th>motorbike</th>\n",
       "      <th>person</th>\n",
       "      <th>pottedplant</th>\n",
       "      <th>sheep</th>\n",
       "      <th>sofa</th>\n",
       "      <th>train</th>\n",
       "      <th>tvmonitor</th>\n",
       "      <th>mAP</th>\n",
       "    </tr>\n",
       "  </thead>\n",
       "  <tbody>\n",
       "    <tr>\n",
       "      <th>0</th>\n",
       "      <td>0.991267</td>\n",
       "      <td>0.984715</td>\n",
       "      <td>0.984858</td>\n",
       "      <td>0.988292</td>\n",
       "      <td>0.954906</td>\n",
       "      <td>0.980675</td>\n",
       "      <td>0.94127</td>\n",
       "      <td>0.981221</td>\n",
       "      <td>0.929575</td>\n",
       "      <td>0.985593</td>\n",
       "      <td>...</td>\n",
       "      <td>0.968401</td>\n",
       "      <td>0.98014</td>\n",
       "      <td>0.98088</td>\n",
       "      <td>0.873216</td>\n",
       "      <td>0.951656</td>\n",
       "      <td>0.989428</td>\n",
       "      <td>0.952763</td>\n",
       "      <td>0.986989</td>\n",
       "      <td>0.970519</td>\n",
       "      <td>0.967554</td>\n",
       "    </tr>\n",
       "  </tbody>\n",
       "</table>\n",
       "<p>1 rows × 21 columns</p>\n",
       "</div>"
      ],
      "text/plain": [
       "   aeroplane   bicycle      bird      boat    bottle       bus      car  \\\n",
       "0   0.991267  0.984715  0.984858  0.988292  0.954906  0.980675  0.94127   \n",
       "\n",
       "        cat     chair       cow    ...          dog    horse  motorbike  \\\n",
       "0  0.981221  0.929575  0.985593    ...     0.968401  0.98014    0.98088   \n",
       "\n",
       "     person  pottedplant     sheep      sofa     train  tvmonitor       mAP  \n",
       "0  0.873216     0.951656  0.989428  0.952763  0.986989   0.970519  0.967554  \n",
       "\n",
       "[1 rows x 21 columns]"
      ]
     },
     "execution_count": 26,
     "metadata": {},
     "output_type": "execute_result"
    }
   ],
   "source": [
    "# wl.5\n",
    "df_evals.head()"
   ]
  },
  {
   "cell_type": "code",
   "execution_count": 21,
   "metadata": {},
   "outputs": [
    {
     "data": {
      "text/html": [
       "<div>\n",
       "<style scoped>\n",
       "    .dataframe tbody tr th:only-of-type {\n",
       "        vertical-align: middle;\n",
       "    }\n",
       "\n",
       "    .dataframe tbody tr th {\n",
       "        vertical-align: top;\n",
       "    }\n",
       "\n",
       "    .dataframe thead th {\n",
       "        text-align: right;\n",
       "    }\n",
       "</style>\n",
       "<table border=\"1\" class=\"dataframe\">\n",
       "  <thead>\n",
       "    <tr style=\"text-align: right;\">\n",
       "      <th></th>\n",
       "      <th>aeroplane</th>\n",
       "      <th>bicycle</th>\n",
       "      <th>bird</th>\n",
       "      <th>boat</th>\n",
       "      <th>bottle</th>\n",
       "      <th>bus</th>\n",
       "      <th>car</th>\n",
       "      <th>cat</th>\n",
       "      <th>chair</th>\n",
       "      <th>cow</th>\n",
       "      <th>...</th>\n",
       "      <th>dog</th>\n",
       "      <th>horse</th>\n",
       "      <th>motorbike</th>\n",
       "      <th>person</th>\n",
       "      <th>pottedplant</th>\n",
       "      <th>sheep</th>\n",
       "      <th>sofa</th>\n",
       "      <th>train</th>\n",
       "      <th>tvmonitor</th>\n",
       "      <th>mAP</th>\n",
       "    </tr>\n",
       "  </thead>\n",
       "  <tbody>\n",
       "    <tr>\n",
       "      <th>0</th>\n",
       "      <td>0.899378</td>\n",
       "      <td>0.87809</td>\n",
       "      <td>0.859872</td>\n",
       "      <td>0.913249</td>\n",
       "      <td>0.882796</td>\n",
       "      <td>0.90989</td>\n",
       "      <td>0.650714</td>\n",
       "      <td>0.840034</td>\n",
       "      <td>0.745596</td>\n",
       "      <td>0.936958</td>\n",
       "      <td>...</td>\n",
       "      <td>0.794905</td>\n",
       "      <td>0.864522</td>\n",
       "      <td>0.886571</td>\n",
       "      <td>0.680138</td>\n",
       "      <td>0.876681</td>\n",
       "      <td>0.952134</td>\n",
       "      <td>0.83044</td>\n",
       "      <td>0.873866</td>\n",
       "      <td>0.875742</td>\n",
       "      <td>0.851554</td>\n",
       "    </tr>\n",
       "  </tbody>\n",
       "</table>\n",
       "<p>1 rows × 21 columns</p>\n",
       "</div>"
      ],
      "text/plain": [
       "   aeroplane  bicycle      bird      boat    bottle      bus       car  \\\n",
       "0   0.899378  0.87809  0.859872  0.913249  0.882796  0.90989  0.650714   \n",
       "\n",
       "        cat     chair       cow    ...          dog     horse  motorbike  \\\n",
       "0  0.840034  0.745596  0.936958    ...     0.794905  0.864522   0.886571   \n",
       "\n",
       "     person  pottedplant     sheep     sofa     train  tvmonitor       mAP  \n",
       "0  0.680138     0.876681  0.952134  0.83044  0.873866   0.875742  0.851554  \n",
       "\n",
       "[1 rows x 21 columns]"
      ]
     },
     "execution_count": 21,
     "metadata": {},
     "output_type": "execute_result"
    }
   ],
   "source": [
    "# ssdh, wl.2\n",
    "df_evals.head()"
   ]
  },
  {
   "cell_type": "code",
   "execution_count": 21,
   "metadata": {},
   "outputs": [
    {
     "data": {
      "text/html": [
       "<div>\n",
       "<style scoped>\n",
       "    .dataframe tbody tr th:only-of-type {\n",
       "        vertical-align: middle;\n",
       "    }\n",
       "\n",
       "    .dataframe tbody tr th {\n",
       "        vertical-align: top;\n",
       "    }\n",
       "\n",
       "    .dataframe thead th {\n",
       "        text-align: right;\n",
       "    }\n",
       "</style>\n",
       "<table border=\"1\" class=\"dataframe\">\n",
       "  <thead>\n",
       "    <tr style=\"text-align: right;\">\n",
       "      <th></th>\n",
       "      <th>aeroplane</th>\n",
       "      <th>bicycle</th>\n",
       "      <th>bird</th>\n",
       "      <th>boat</th>\n",
       "      <th>bottle</th>\n",
       "      <th>bus</th>\n",
       "      <th>car</th>\n",
       "      <th>cat</th>\n",
       "      <th>chair</th>\n",
       "      <th>cow</th>\n",
       "      <th>...</th>\n",
       "      <th>dog</th>\n",
       "      <th>horse</th>\n",
       "      <th>motorbike</th>\n",
       "      <th>person</th>\n",
       "      <th>pottedplant</th>\n",
       "      <th>sheep</th>\n",
       "      <th>sofa</th>\n",
       "      <th>train</th>\n",
       "      <th>tvmonitor</th>\n",
       "      <th>mAP</th>\n",
       "    </tr>\n",
       "  </thead>\n",
       "  <tbody>\n",
       "    <tr>\n",
       "      <th>0</th>\n",
       "      <td>0.993052</td>\n",
       "      <td>0.983983</td>\n",
       "      <td>0.986421</td>\n",
       "      <td>0.989828</td>\n",
       "      <td>0.958817</td>\n",
       "      <td>0.983571</td>\n",
       "      <td>0.938369</td>\n",
       "      <td>0.983758</td>\n",
       "      <td>0.933821</td>\n",
       "      <td>0.988076</td>\n",
       "      <td>...</td>\n",
       "      <td>0.973615</td>\n",
       "      <td>0.982413</td>\n",
       "      <td>0.983188</td>\n",
       "      <td>0.871855</td>\n",
       "      <td>0.959349</td>\n",
       "      <td>0.990862</td>\n",
       "      <td>0.951772</td>\n",
       "      <td>0.98795</td>\n",
       "      <td>0.970583</td>\n",
       "      <td>0.969414</td>\n",
       "    </tr>\n",
       "  </tbody>\n",
       "</table>\n",
       "<p>1 rows × 21 columns</p>\n",
       "</div>"
      ],
      "text/plain": [
       "   aeroplane   bicycle      bird      boat    bottle       bus       car  \\\n",
       "0   0.993052  0.983983  0.986421  0.989828  0.958817  0.983571  0.938369   \n",
       "\n",
       "        cat     chair       cow    ...          dog     horse  motorbike  \\\n",
       "0  0.983758  0.933821  0.988076    ...     0.973615  0.982413   0.983188   \n",
       "\n",
       "     person  pottedplant     sheep      sofa    train  tvmonitor       mAP  \n",
       "0  0.871855     0.959349  0.990862  0.951772  0.98795   0.970583  0.969414  \n",
       "\n",
       "[1 rows x 21 columns]"
      ]
     },
     "execution_count": 21,
     "metadata": {},
     "output_type": "execute_result"
    }
   ],
   "source": [
    "# wl.4\n",
    "df_evals.head()"
   ]
  },
  {
   "cell_type": "code",
   "execution_count": 20,
   "metadata": {},
   "outputs": [
    {
     "data": {
      "text/html": [
       "<div>\n",
       "<style scoped>\n",
       "    .dataframe tbody tr th:only-of-type {\n",
       "        vertical-align: middle;\n",
       "    }\n",
       "\n",
       "    .dataframe tbody tr th {\n",
       "        vertical-align: top;\n",
       "    }\n",
       "\n",
       "    .dataframe thead th {\n",
       "        text-align: right;\n",
       "    }\n",
       "</style>\n",
       "<table border=\"1\" class=\"dataframe\">\n",
       "  <thead>\n",
       "    <tr style=\"text-align: right;\">\n",
       "      <th></th>\n",
       "      <th>aeroplane</th>\n",
       "      <th>bicycle</th>\n",
       "      <th>bird</th>\n",
       "      <th>boat</th>\n",
       "      <th>bottle</th>\n",
       "      <th>bus</th>\n",
       "      <th>car</th>\n",
       "      <th>cat</th>\n",
       "      <th>chair</th>\n",
       "      <th>cow</th>\n",
       "      <th>...</th>\n",
       "      <th>dog</th>\n",
       "      <th>horse</th>\n",
       "      <th>motorbike</th>\n",
       "      <th>person</th>\n",
       "      <th>pottedplant</th>\n",
       "      <th>sheep</th>\n",
       "      <th>sofa</th>\n",
       "      <th>train</th>\n",
       "      <th>tvmonitor</th>\n",
       "      <th>mAP</th>\n",
       "    </tr>\n",
       "  </thead>\n",
       "  <tbody>\n",
       "    <tr>\n",
       "      <th>0</th>\n",
       "      <td>0.990101</td>\n",
       "      <td>0.985251</td>\n",
       "      <td>0.984076</td>\n",
       "      <td>0.98702</td>\n",
       "      <td>0.94918</td>\n",
       "      <td>0.983165</td>\n",
       "      <td>0.946772</td>\n",
       "      <td>0.98219</td>\n",
       "      <td>0.917613</td>\n",
       "      <td>0.977977</td>\n",
       "      <td>...</td>\n",
       "      <td>0.967671</td>\n",
       "      <td>0.981779</td>\n",
       "      <td>0.983974</td>\n",
       "      <td>0.90135</td>\n",
       "      <td>0.94048</td>\n",
       "      <td>0.988135</td>\n",
       "      <td>0.946476</td>\n",
       "      <td>0.989187</td>\n",
       "      <td>0.96784</td>\n",
       "      <td>0.967092</td>\n",
       "    </tr>\n",
       "  </tbody>\n",
       "</table>\n",
       "<p>1 rows × 21 columns</p>\n",
       "</div>"
      ],
      "text/plain": [
       "   aeroplane   bicycle      bird     boat   bottle       bus       car  \\\n",
       "0   0.990101  0.985251  0.984076  0.98702  0.94918  0.983165  0.946772   \n",
       "\n",
       "       cat     chair       cow    ...          dog     horse  motorbike  \\\n",
       "0  0.98219  0.917613  0.977977    ...     0.967671  0.981779   0.983974   \n",
       "\n",
       "    person  pottedplant     sheep      sofa     train  tvmonitor       mAP  \n",
       "0  0.90135      0.94048  0.988135  0.946476  0.989187    0.96784  0.967092  \n",
       "\n",
       "[1 rows x 21 columns]"
      ]
     },
     "execution_count": 20,
     "metadata": {},
     "output_type": "execute_result"
    }
   ],
   "source": [
    "# wl.3\n",
    "df_evals.head()"
   ]
  },
  {
   "cell_type": "code",
   "execution_count": 20,
   "metadata": {},
   "outputs": [
    {
     "data": {
      "text/html": [
       "<div>\n",
       "<style scoped>\n",
       "    .dataframe tbody tr th:only-of-type {\n",
       "        vertical-align: middle;\n",
       "    }\n",
       "\n",
       "    .dataframe tbody tr th {\n",
       "        vertical-align: top;\n",
       "    }\n",
       "\n",
       "    .dataframe thead th {\n",
       "        text-align: right;\n",
       "    }\n",
       "</style>\n",
       "<table border=\"1\" class=\"dataframe\">\n",
       "  <thead>\n",
       "    <tr style=\"text-align: right;\">\n",
       "      <th></th>\n",
       "      <th>aeroplane</th>\n",
       "      <th>bicycle</th>\n",
       "      <th>bird</th>\n",
       "      <th>boat</th>\n",
       "      <th>bottle</th>\n",
       "      <th>bus</th>\n",
       "      <th>car</th>\n",
       "      <th>cat</th>\n",
       "      <th>chair</th>\n",
       "      <th>cow</th>\n",
       "      <th>...</th>\n",
       "      <th>dog</th>\n",
       "      <th>horse</th>\n",
       "      <th>motorbike</th>\n",
       "      <th>person</th>\n",
       "      <th>pottedplant</th>\n",
       "      <th>sheep</th>\n",
       "      <th>sofa</th>\n",
       "      <th>train</th>\n",
       "      <th>tvmonitor</th>\n",
       "      <th>mAP</th>\n",
       "    </tr>\n",
       "  </thead>\n",
       "  <tbody>\n",
       "    <tr>\n",
       "      <th>0</th>\n",
       "      <td>0.993052</td>\n",
       "      <td>0.984142</td>\n",
       "      <td>0.986477</td>\n",
       "      <td>0.990037</td>\n",
       "      <td>0.958702</td>\n",
       "      <td>0.983571</td>\n",
       "      <td>0.939336</td>\n",
       "      <td>0.983525</td>\n",
       "      <td>0.933763</td>\n",
       "      <td>0.987727</td>\n",
       "      <td>...</td>\n",
       "      <td>0.974554</td>\n",
       "      <td>0.982266</td>\n",
       "      <td>0.983205</td>\n",
       "      <td>0.872043</td>\n",
       "      <td>0.957893</td>\n",
       "      <td>0.990786</td>\n",
       "      <td>0.95163</td>\n",
       "      <td>0.98795</td>\n",
       "      <td>0.970391</td>\n",
       "      <td>0.969393</td>\n",
       "    </tr>\n",
       "  </tbody>\n",
       "</table>\n",
       "<p>1 rows × 21 columns</p>\n",
       "</div>"
      ],
      "text/plain": [
       "   aeroplane   bicycle      bird      boat    bottle       bus       car  \\\n",
       "0   0.993052  0.984142  0.986477  0.990037  0.958702  0.983571  0.939336   \n",
       "\n",
       "        cat     chair       cow    ...          dog     horse  motorbike  \\\n",
       "0  0.983525  0.933763  0.987727    ...     0.974554  0.982266   0.983205   \n",
       "\n",
       "     person  pottedplant     sheep     sofa    train  tvmonitor       mAP  \n",
       "0  0.872043     0.957893  0.990786  0.95163  0.98795   0.970391  0.969393  \n",
       "\n",
       "[1 rows x 21 columns]"
      ]
     },
     "execution_count": 20,
     "metadata": {},
     "output_type": "execute_result"
    }
   ],
   "source": [
    "# wl.2\n",
    "df_evals.head()"
   ]
  },
  {
   "cell_type": "code",
   "execution_count": 64,
   "metadata": {},
   "outputs": [
    {
     "data": {
      "text/html": [
       "<div>\n",
       "<style scoped>\n",
       "    .dataframe tbody tr th:only-of-type {\n",
       "        vertical-align: middle;\n",
       "    }\n",
       "\n",
       "    .dataframe tbody tr th {\n",
       "        vertical-align: top;\n",
       "    }\n",
       "\n",
       "    .dataframe thead th {\n",
       "        text-align: right;\n",
       "    }\n",
       "</style>\n",
       "<table border=\"1\" class=\"dataframe\">\n",
       "  <thead>\n",
       "    <tr style=\"text-align: right;\">\n",
       "      <th></th>\n",
       "      <th>aeroplane</th>\n",
       "      <th>bicycle</th>\n",
       "      <th>bird</th>\n",
       "      <th>boat</th>\n",
       "      <th>bottle</th>\n",
       "      <th>bus</th>\n",
       "      <th>car</th>\n",
       "      <th>cat</th>\n",
       "      <th>chair</th>\n",
       "      <th>cow</th>\n",
       "      <th>...</th>\n",
       "      <th>dog</th>\n",
       "      <th>horse</th>\n",
       "      <th>motorbike</th>\n",
       "      <th>person</th>\n",
       "      <th>pottedplant</th>\n",
       "      <th>sheep</th>\n",
       "      <th>sofa</th>\n",
       "      <th>train</th>\n",
       "      <th>tvmonitor</th>\n",
       "      <th>mAP</th>\n",
       "    </tr>\n",
       "  </thead>\n",
       "  <tbody>\n",
       "    <tr>\n",
       "      <th>0</th>\n",
       "      <td>0.989883</td>\n",
       "      <td>0.9851</td>\n",
       "      <td>0.983481</td>\n",
       "      <td>0.986652</td>\n",
       "      <td>0.947858</td>\n",
       "      <td>0.982931</td>\n",
       "      <td>0.945889</td>\n",
       "      <td>0.981869</td>\n",
       "      <td>0.914532</td>\n",
       "      <td>0.977797</td>\n",
       "      <td>...</td>\n",
       "      <td>0.967398</td>\n",
       "      <td>0.982287</td>\n",
       "      <td>0.983795</td>\n",
       "      <td>0.901293</td>\n",
       "      <td>0.942819</td>\n",
       "      <td>0.987618</td>\n",
       "      <td>0.945761</td>\n",
       "      <td>0.988716</td>\n",
       "      <td>0.966327</td>\n",
       "      <td>0.966652</td>\n",
       "    </tr>\n",
       "  </tbody>\n",
       "</table>\n",
       "<p>1 rows × 21 columns</p>\n",
       "</div>"
      ],
      "text/plain": [
       "   aeroplane  bicycle      bird      boat    bottle       bus       car  \\\n",
       "0   0.989883   0.9851  0.983481  0.986652  0.947858  0.982931  0.945889   \n",
       "\n",
       "        cat     chair       cow    ...          dog     horse  motorbike  \\\n",
       "0  0.981869  0.914532  0.977797    ...     0.967398  0.982287   0.983795   \n",
       "\n",
       "     person  pottedplant     sheep      sofa     train  tvmonitor       mAP  \n",
       "0  0.901293     0.942819  0.987618  0.945761  0.988716   0.966327  0.966652  \n",
       "\n",
       "[1 rows x 21 columns]"
      ]
     },
     "execution_count": 64,
     "metadata": {},
     "output_type": "execute_result"
    }
   ],
   "source": [
    "# wl.1\n",
    "df_evals.head()"
   ]
  },
  {
   "cell_type": "code",
   "execution_count": 22,
   "metadata": {},
   "outputs": [],
   "source": [
    "#evals"
   ]
  },
  {
   "cell_type": "code",
   "execution_count": 27,
   "metadata": {},
   "outputs": [],
   "source": [
    "#df_evals.to_csv(\"../data/voc_2007/20180806_df_evals_FT.wl4.csv\")"
   ]
  },
  {
   "cell_type": "code",
   "execution_count": null,
   "metadata": {},
   "outputs": [],
   "source": []
  },
  {
   "cell_type": "code",
   "execution_count": null,
   "metadata": {},
   "outputs": [],
   "source": []
  }
 ],
 "metadata": {
  "kernelspec": {
   "display_name": "tensorflow_py36",
   "language": "python",
   "name": "tensorflow_py36"
  },
  "language_info": {
   "codemirror_mode": {
    "name": "ipython",
    "version": 3
   },
   "file_extension": ".py",
   "mimetype": "text/x-python",
   "name": "python",
   "nbconvert_exporter": "python",
   "pygments_lexer": "ipython3",
   "version": "3.6.2"
  }
 },
 "nbformat": 4,
 "nbformat_minor": 2
}
