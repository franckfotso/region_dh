{
 "cells": [
  {
   "cell_type": "code",
   "execution_count": 1,
   "metadata": {},
   "outputs": [],
   "source": [
    "import _init_paths\n",
    "import os, sys, cv2\n",
    "import os.path as osp\n",
    "import numpy as np\n",
    "import tensorflow as tf\n",
    "import matplotlib.pyplot as plt\n",
    "import numpy.random as npr\n",
    "\n",
    "from Config import Config\n",
    "from datasets.Pascal import Pascal\n",
    "from datasets.CIFAR10 import CIFAR10\n",
    "from datasets.IMGenerator import IMGenerator\n",
    "from nets.VGG16 import VGG16"
   ]
  },
  {
   "cell_type": "code",
   "execution_count": 2,
   "metadata": {},
   "outputs": [],
   "source": [
    "model_pn = \"../outputs/cifar10/train_VGG16/VGG16_SSDH_iter_8000.ckpt\""
   ]
  },
  {
   "cell_type": "code",
   "execution_count": 3,
   "metadata": {},
   "outputs": [],
   "source": [
    "# setup & load configs\n",
    "_C = Config(config_pn=\"../config/config.ini\")\n",
    "cfg = _C.cfg"
   ]
  },
  {
   "cell_type": "code",
   "execution_count": 4,
   "metadata": {},
   "outputs": [],
   "source": [
    "ds_name = \"cifar10\""
   ]
  },
  {
   "cell_type": "code",
   "execution_count": 5,
   "metadata": {},
   "outputs": [
    {
     "name": "stdout",
     "output_type": "stream",
     "text": [
      "[INFO] dataset.name: cifar10\n",
      "[INFO] dataset.num_cls: 10\n",
      "[INFO] dataset.train: 50000\n",
      "[INFO] dataset.trainval: 0\n",
      "[INFO] dataset.test: 0\n",
      "[INFO] dataset.val: 10000\n"
     ]
    }
   ],
   "source": [
    "dataset_DIR = osp.join(cfg.MAIN_DIR_ROOT, \"data\", ds_name)\n",
    "dataset = CIFAR10(name=ds_name, path_dir=dataset_DIR, cfg=cfg)\n",
    "dataset.load_sets()\n",
    "print ('[INFO] dataset.name: {}'.format(dataset.name))\n",
    "print ('[INFO] dataset.num_cls: {}'.format(dataset.num_cls))\n",
    "print ('[INFO] dataset.train: {}'.format(dataset.sets[\"train\"][\"num_items\"]))\n",
    "print ('[INFO] dataset.trainval: {}'.format(dataset.sets[\"trainval\"][\"num_items\"]))\n",
    "print ('[INFO] dataset.test: {}'.format(dataset.sets[\"test\"][\"num_items\"]))\n",
    "print ('[INFO] dataset.val: {}'.format(dataset.sets[\"val\"][\"num_items\"]))"
   ]
  },
  {
   "cell_type": "code",
   "execution_count": 6,
   "metadata": {},
   "outputs": [
    {
     "name": "stdout",
     "output_type": "stream",
     "text": [
      "[INFO] images_obj loaded from /home/rfm/eclipse/python/region-dh/cache/cifar10_images.pkl\n",
      "[INFO] train_images.num: 50000\n",
      "[INFO] val_images.num: 10000\n"
     ]
    }
   ],
   "source": [
    "(train_images, val_images), _ = dataset.load_images()\n",
    "print ('[INFO] train_images.num: {}'.format(len(train_images)))\n",
    "print ('[INFO] val_images.num: {}'.format(len(val_images)))"
   ]
  },
  {
   "cell_type": "code",
   "execution_count": 7,
   "metadata": {},
   "outputs": [],
   "source": [
    "tfconfig = tf.ConfigProto(allow_soft_placement=True)\n",
    "tfconfig.gpu_options.allow_growth=True\n",
    "# init session\n",
    "sess = tf.Session(config=tfconfig)"
   ]
  },
  {
   "cell_type": "code",
   "execution_count": 8,
   "metadata": {},
   "outputs": [
    {
     "data": {
      "text/plain": [
       "{'cls_score': <tf.Tensor 'vgg_16_2/Reshape:0' shape=(1, ?) dtype=float32>,\n",
       " 'cls_pred': <tf.Tensor 'vgg_16_2/Reshape_1:0' shape=(1,) dtype=int64>,\n",
       " 'cls_prob': <tf.Tensor 'vgg_16_2/cls_prob:0' shape=(1, ?) dtype=float32>}"
      ]
     },
     "execution_count": 8,
     "metadata": {},
     "output_type": "execute_result"
    }
   ],
   "source": [
    "cfg.TRAIN_BATCH_CFC_NUM_IMG = 1\n",
    "net = VGG16(cfg)\n",
    "net.create_architecture('TEST', dataset.num_cls, tag='default')"
   ]
  },
  {
   "cell_type": "code",
   "execution_count": 9,
   "metadata": {},
   "outputs": [
    {
     "name": "stdout",
     "output_type": "stream",
     "text": [
      "Loading model check point from ../outputs/cifar10/train_VGG16/VGG16_SSDH_iter_8000.ckpt\n",
      "INFO:tensorflow:Restoring parameters from ../outputs/cifar10/train_VGG16/VGG16_SSDH_iter_8000.ckpt\n",
      "Loaded.\n"
     ]
    }
   ],
   "source": [
    "print(('Loading model check point from {:s}').format(model_pn))\n",
    "saver = tf.train.Saver()\n",
    "saver.restore(sess, model_pn)\n",
    "print('Loaded.')"
   ]
  },
  {
   "cell_type": "code",
   "execution_count": 14,
   "metadata": {},
   "outputs": [],
   "source": [
    "def im_classify(sess, net, image, data_gen):\n",
    "    random_scale_inds = npr.randint(0, high=len(cfg.TRAIN_DEFAULT_SCALES),size=1)\n",
    "    \n",
    "    im_blob, im_scales = data_gen.built_image_blob([image], random_scale_inds)\n",
    "    label_blob = data_gen.built_label_blob([image])\n",
    "    \n",
    "    cls_score, cls_prob, cls_pred = net.test_image(sess, im_blob, label_blob)\n",
    "    \n",
    "    return cls_score, cls_prob, cls_pred"
   ]
  },
  {
   "cell_type": "code",
   "execution_count": 11,
   "metadata": {},
   "outputs": [],
   "source": [
    "val_gen = IMGenerator(val_images, dataset, cfg)"
   ]
  },
  {
   "cell_type": "code",
   "execution_count": 39,
   "metadata": {},
   "outputs": [
    {
     "data": {
      "text/plain": [
       "<matplotlib.image.AxesImage at 0x7f15887573c8>"
      ]
     },
     "execution_count": 39,
     "metadata": {},
     "output_type": "execute_result"
    },
    {
     "data": {
      "image/png": "[encoded data removed]",
      "text/plain": [
       "<Figure size 432x288 with 1 Axes>"
      ]
     },
     "metadata": {},
     "output_type": "display_data"
    }
   ],
   "source": [
    "# visualize image\n",
    "np.random.shuffle(val_images)\n",
    "image = val_images[0]\n",
    "im_RAW = cv2.imread(image.pathname)    \n",
    "plt.imshow(im_RAW)"
   ]
  },
  {
   "cell_type": "code",
   "execution_count": 40,
   "metadata": {},
   "outputs": [
    {
     "name": "stdout",
     "output_type": "stream",
     "text": [
      "image: 3570.jpg, cls_prob: 1.000, cls_pred: 9, cls_tgt: 9\n"
     ]
    }
   ],
   "source": [
    "# classify one image\n",
    "cls_score, cls_prob, cls_pred = im_classify(sess, net, image, val_gen)\n",
    "print(\"image: {}, cls_prob: {:.3f}, cls_pred: {}, cls_tgt: {}\".format(image.filename,\n",
    "                                                                     np.max(cls_prob),\n",
    "                                                                     cls_pred[0],\n",
    "                                                                     image.label))"
   ]
  },
  {
   "cell_type": "code",
   "execution_count": 24,
   "metadata": {},
   "outputs": [
    {
     "data": {
      "text/plain": [
       "0.9999908"
      ]
     },
     "execution_count": 24,
     "metadata": {},
     "output_type": "execute_result"
    }
   ],
   "source": [
    "np.max(cls_prob)"
   ]
  },
  {
   "cell_type": "code",
   "execution_count": 19,
   "metadata": {},
   "outputs": [
    {
     "data": {
      "text/plain": [
       "'9'"
      ]
     },
     "execution_count": 19,
     "metadata": {},
     "output_type": "execute_result"
    }
   ],
   "source": [
    "image.label"
   ]
  },
  {
   "cell_type": "code",
   "execution_count": 10,
   "metadata": {},
   "outputs": [],
   "source": [
    "test = np.random.randn(100)\n",
    "batch = 23"
   ]
  },
  {
   "cell_type": "code",
   "execution_count": 13,
   "metadata": {},
   "outputs": [
    {
     "name": "stdout",
     "output_type": "stream",
     "text": [
      "pool.size:  23\n",
      "pool.size:  23\n",
      "pool.size:  23\n",
      "pool.size:  23\n",
      "pool.size:  8\n"
     ]
    }
   ],
   "source": [
    "for i in range(0,100, batch):\n",
    "    pool = test[i:i+batch]\n",
    "    print(\"pool.size: \", len(pool))"
   ]
  },
  {
   "cell_type": "code",
   "execution_count": 21,
   "metadata": {},
   "outputs": [
    {
     "data": {
      "text/plain": [
       "0"
      ]
     },
     "execution_count": 21,
     "metadata": {},
     "output_type": "execute_result"
    }
   ],
   "source": [
    "len(np.array(None).shape)"
   ]
  },
  {
   "cell_type": "code",
   "execution_count": 24,
   "metadata": {},
   "outputs": [
    {
     "data": {
      "text/plain": [
       "2"
      ]
     },
     "execution_count": 24,
     "metadata": {},
     "output_type": "execute_result"
    }
   ],
   "source": [
    "len(np.array(np.array([[1, 3], [0, 4]])).shape)"
   ]
  },
  {
   "cell_type": "code",
   "execution_count": 26,
   "metadata": {},
   "outputs": [
    {
     "data": {
      "text/plain": [
       "[1, 2, 3, 4, 5, 6, 7, 8, 9, 10]"
      ]
     },
     "execution_count": 26,
     "metadata": {},
     "output_type": "execute_result"
    }
   ],
   "source": [
    "[ x+1 for x in range(10)]"
   ]
  },
  {
   "cell_type": "code",
   "execution_count": 55,
   "metadata": {},
   "outputs": [],
   "source": [
    "test = np.array([0, 1, 0, 0, 1, 1, 0, 1, 0, 0])\n",
    "#test = np.array([0, 1, 1, 0, 0, 1, 0, 1, 0, 0])"
   ]
  },
  {
   "cell_type": "code",
   "execution_count": 45,
   "metadata": {},
   "outputs": [
    {
     "name": "stdout",
     "output_type": "stream",
     "text": [
      "[0 1 1 1 2 3 3 4 4 4]\n"
     ]
    }
   ],
   "source": [
    "cs = np.cumsum(test)\n",
    "print(cs)"
   ]
  },
  {
   "cell_type": "code",
   "execution_count": 46,
   "metadata": {},
   "outputs": [
    {
     "name": "stdout",
     "output_type": "stream",
     "text": [
      "[1, 2, 3, 4, 5, 6, 7, 8, 9, 10]\n"
     ]
    }
   ],
   "source": [
    "ns = [ x+1 for x in range(len(cs))]\n",
    "print(ns)"
   ]
  },
  {
   "cell_type": "code",
   "execution_count": 47,
   "metadata": {},
   "outputs": [
    {
     "name": "stdout",
     "output_type": "stream",
     "text": [
      "[0.         0.5        0.33333333 0.25       0.4        0.5\n",
      " 0.42857143 0.5        0.44444444 0.4       ]\n"
     ]
    }
   ],
   "source": [
    "P = np.cumsum(test)/ns\n",
    "print(P)"
   ]
  },
  {
   "cell_type": "code",
   "execution_count": 48,
   "metadata": {},
   "outputs": [
    {
     "name": "stdout",
     "output_type": "stream",
     "text": [
      "0.475\n"
     ]
    }
   ],
   "source": [
    "AP = np.sum(P*test)/np.sum(test)\n",
    "print(AP)"
   ]
  },
  {
   "cell_type": "code",
   "execution_count": 42,
   "metadata": {},
   "outputs": [
    {
     "data": {
      "text/plain": [
       "array([0.        , 0.5       , 0.66666667, 0.        , 0.        ,\n",
       "       0.5       , 0.        , 0.5       , 0.        , 0.        ])"
      ]
     },
     "execution_count": 42,
     "metadata": {},
     "output_type": "execute_result"
    }
   ],
   "source": [
    "P*test"
   ]
  },
  {
   "cell_type": "code",
   "execution_count": 50,
   "metadata": {},
   "outputs": [],
   "source": [
    "import csv\n",
    "\n",
    "with open('names.csv', 'w') as csvfile:\n",
    "    fieldnames = ['first_name', 'last_name']\n",
    "    writer = csv.DictWriter(csvfile, fieldnames=fieldnames)\n",
    "\n",
    "    writer.writeheader()\n",
    "    writer.writerow({'first_name': 'Baked', 'last_name': 'Beans'})\n",
    "    writer.writerow({'first_name': 'Lovely', 'last_name': 'Spam'})\n",
    "    writer.writerow({'first_name': 'Wonderful', 'last_name': 'Spam'})"
   ]
  },
  {
   "cell_type": "code",
   "execution_count": 51,
   "metadata": {},
   "outputs": [
    {
     "data": {
      "text/plain": [
       "array([0, 1, 0, 0, 1, 1, 0, 1, 0, 0])"
      ]
     },
     "execution_count": 51,
     "metadata": {},
     "output_type": "execute_result"
    }
   ],
   "source": [
    "test"
   ]
  },
  {
   "cell_type": "code",
   "execution_count": 58,
   "metadata": {},
   "outputs": [],
   "source": [
    "num_qrys = 10000\n",
    "m = np.array([ x+1 for x in range(100)])\n",
    "num_TP = np.zeros((len(m)))"
   ]
  },
  {
   "cell_type": "code",
   "execution_count": 54,
   "metadata": {},
   "outputs": [
    {
     "data": {
      "text/plain": [
       "array([0, 2, 0, 0, 2, 2, 0, 2, 0, 0])"
      ]
     },
     "execution_count": 54,
     "metadata": {},
     "output_type": "execute_result"
    }
   ],
   "source": [
    "test"
   ]
  },
  {
   "cell_type": "code",
   "execution_count": 60,
   "metadata": {},
   "outputs": [
    {
     "data": {
      "text/plain": [
       "(100,)"
      ]
     },
     "execution_count": 60,
     "metadata": {},
     "output_type": "execute_result"
    }
   ],
   "source": [
    "(num_TP/(m*num_qrys)).shape"
   ]
  },
  {
   "cell_type": "code",
   "execution_count": 3,
   "metadata": {},
   "outputs": [],
   "source": [
    "import numpy as np"
   ]
  },
  {
   "cell_type": "code",
   "execution_count": 8,
   "metadata": {},
   "outputs": [
    {
     "data": {
      "text/plain": [
       "38.0"
      ]
     },
     "execution_count": 8,
     "metadata": {},
     "output_type": "execute_result"
    }
   ],
   "source": [
    "np.round(600/16)"
   ]
  },
  {
   "cell_type": "code",
   "execution_count": 7,
   "metadata": {},
   "outputs": [
    {
     "data": {
      "text/plain": [
       "57.0"
      ]
     },
     "execution_count": 7,
     "metadata": {},
     "output_type": "execute_result"
    }
   ],
   "source": [
    "np.ceil(901/16)"
   ]
  },
  {
   "cell_type": "code",
   "execution_count": 9,
   "metadata": {},
   "outputs": [
    {
     "data": {
      "text/plain": [
       "10.0"
      ]
     },
     "execution_count": 9,
     "metadata": {},
     "output_type": "execute_result"
    }
   ],
   "source": [
    "np.float32(10)"
   ]
  },
  {
   "cell_type": "code",
   "execution_count": 12,
   "metadata": {},
   "outputs": [],
   "source": [
    "label = np.array([[0, 1, 1, 0, 1]])"
   ]
  },
  {
   "cell_type": "code",
   "execution_count": 13,
   "metadata": {},
   "outputs": [
    {
     "data": {
      "text/plain": [
       "(1, 5)"
      ]
     },
     "execution_count": 13,
     "metadata": {},
     "output_type": "execute_result"
    }
   ],
   "source": [
    "label.shape"
   ]
  },
  {
   "cell_type": "code",
   "execution_count": 19,
   "metadata": {},
   "outputs": [
    {
     "data": {
      "text/plain": [
       "3"
      ]
     },
     "execution_count": 19,
     "metadata": {},
     "output_type": "execute_result"
    }
   ],
   "source": [
    "np.sum(label[0])"
   ]
  },
  {
   "cell_type": "code",
   "execution_count": null,
   "metadata": {},
   "outputs": [],
   "source": []
  }
 ],
 "metadata": {
  "kernelspec": {
   "display_name": "tensorflow_py36",
   "language": "python",
   "name": "tensorflow_py36"
  },
  "language_info": {
   "codemirror_mode": {
    "name": "ipython",
    "version": 3
   },
   "file_extension": ".py",
   "mimetype": "text/x-python",
   "name": "python",
   "nbconvert_exporter": "python",
   "pygments_lexer": "ipython3",
   "version": "3.6.2"
  }
 },
 "nbformat": 4,
 "nbformat_minor": 2
}
