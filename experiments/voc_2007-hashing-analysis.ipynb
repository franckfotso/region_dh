{
 "cells": [
  {
   "cell_type": "code",
   "execution_count": 2,
   "metadata": {},
   "outputs": [],
   "source": [
    "import _init_paths\n",
    "import os, sys, cv2, pickle\n",
    "import os.path as osp\n",
    "import numpy as np\n",
    "import tensorflow as tf\n",
    "import matplotlib.pyplot as plt\n",
    "import numpy.random as npr\n",
    "import pandas as pd\n",
    "from sklearn.metrics.pairwise import pairwise_distances\n",
    "\n",
    "from Config import Config\n",
    "from datasets.Pascal import Pascal\n",
    "from datasets.ROIGenerator import ROIGenerator\n",
    "from nets.VGG16_SSDH1 import VGG16_SSDH1\n",
    "from nets.VGG16_FT import VGG16_FT\n",
    "from retriever.dist_tools import *"
   ]
  },
  {
   "cell_type": "code",
   "execution_count": 3,
   "metadata": {},
   "outputs": [],
   "source": [
    "# setup & load configs\n",
    "_C = Config(config_pn=\"../config/config.ini\")\n",
    "cfg = _C.cfg"
   ]
  },
  {
   "cell_type": "code",
   "execution_count": 4,
   "metadata": {},
   "outputs": [],
   "source": [
    "ds_name = \"voc_2007\"\n",
    "#model_pn = \"../../0-bak/20180804_voc_2007_SSDH.WL2/outputs/voc_2007/train_VGG16/VGG16_SSDH_iter_9396_acc_0.907.ckpt\" # try 4\n",
    "#model_pn = \"../outputs_G1/voc_2007/train_VGG16/VGG16_SSDH_iter_6264_acc_0.955.ckpt\"\n",
    "model_pn = \"../outputs/voc_2007/train_VGG16/VGG16_SSDH1_iter_5024_acc_0.953.ckpt\""
   ]
  },
  {
   "cell_type": "code",
   "execution_count": 5,
   "metadata": {},
   "outputs": [
    {
     "name": "stdout",
     "output_type": "stream",
     "text": [
      "[INFO] dataset.name: voc_2007\n",
      "[INFO] dataset.num_cls: 21\n",
      "[INFO] dataset.train: 2501\n",
      "[INFO] dataset.trainval: 5011\n",
      "[INFO] dataset.test: 4952\n",
      "[INFO] dataset.val: 2510\n"
     ]
    }
   ],
   "source": [
    "dataset_DIR = osp.join(cfg.MAIN_DIR_ROOT, \"data\", ds_name)\n",
    "dataset = Pascal(name=ds_name, path_dir=dataset_DIR, cfg=cfg)\n",
    "dataset.load_sets()\n",
    "print ('[INFO] dataset.name: {}'.format(dataset.name))\n",
    "print ('[INFO] dataset.num_cls: {}'.format(dataset.num_cls))\n",
    "print ('[INFO] dataset.train: {}'.format(dataset.sets[\"train\"][\"num_items\"]))\n",
    "print ('[INFO] dataset.trainval: {}'.format(dataset.sets[\"trainval\"][\"num_items\"]))\n",
    "print ('[INFO] dataset.test: {}'.format(dataset.sets[\"test\"][\"num_items\"]))\n",
    "print ('[INFO] dataset.val: {}'.format(dataset.sets[\"val\"][\"num_items\"]))"
   ]
  },
  {
   "cell_type": "code",
   "execution_count": 6,
   "metadata": {},
   "outputs": [
    {
     "name": "stdout",
     "output_type": "stream",
     "text": [
      "[INFO] loading gt rois for voc_2007...\n",
      "[INFO] images with gt loaded from /home/rfm/eclipse/python/region-dh/cache/voc_2007_gt_trainval_images.pkl\n",
      "[INFO] loading gt rois for voc_2007...\n",
      "[INFO] images with gt loaded from /home/rfm/eclipse/python/region-dh/cache/voc_2007_gt_test_images.pkl\n",
      "[INFO] train_images.num: 5011\n",
      "[INFO] val_images.num: 4952\n"
     ]
    }
   ],
   "source": [
    "train_images, pos_weights = dataset.load_gt_rois(gt_set=\"trainval\")\n",
    "train_images = [image for image in train_images if not image.rois[\"gt\"]['flipped']]\n",
    "val_images, _ = dataset.load_gt_rois(gt_set=\"test\")\n",
    "print ('[INFO] train_images.num: {}'.format(len(train_images)))\n",
    "print ('[INFO] val_images.num: {}'.format(len(val_images)))"
   ]
  },
  {
   "cell_type": "code",
   "execution_count": 7,
   "metadata": {},
   "outputs": [],
   "source": [
    "tfconfig = tf.ConfigProto(allow_soft_placement=True)\n",
    "tfconfig.gpu_options.allow_growth=True\n",
    "# init session\n",
    "sess = tf.Session(config=tfconfig)"
   ]
  },
  {
   "cell_type": "code",
   "execution_count": 8,
   "metadata": {},
   "outputs": [
    {
     "name": "stdout",
     "output_type": "stream",
     "text": [
      "cls_score.shape:  (1, 20, 2)\n",
      "cls_prob.shape:  (1, 20, 2)\n",
      "cls_pred.shape:  (1, 20, 1)\n"
     ]
    },
    {
     "data": {
      "text/plain": [
       "{'cls_score': <tf.Tensor 'vgg_16_2/cls_score:0' shape=(1, 20, 2) dtype=float32>,\n",
       " 'cls_prob': <tf.Tensor 'vgg_16_2/cls_prob:0' shape=(1, 20, 2) dtype=float32>,\n",
       " 'cls_pred': <tf.Tensor 'vgg_16_2/cls_pred:0' shape=(1, 20, 1) dtype=int64>,\n",
       " 'fc7': <tf.Tensor 'Reshape:0' shape=(1, 4096) dtype=float32>,\n",
       " 'fc_emb': <tf.Tensor 'Reshape_1:0' shape=(1, 48) dtype=float32>}"
      ]
     },
     "execution_count": 8,
     "metadata": {},
     "output_type": "execute_result"
    }
   ],
   "source": [
    "cfg.TEST_BATCH_CFC_NUM_IMG = 1\n",
    "num_bits = 48\n",
    "net = VGG16_SSDH1(cfg, num_bits, multilabel=True)\n",
    "#net = VGG16_FT(cfg, multilabel=True)\n",
    "net.create_architecture('TEST', dataset.num_cls, tag='default')"
   ]
  },
  {
   "cell_type": "code",
   "execution_count": 9,
   "metadata": {},
   "outputs": [
    {
     "name": "stdout",
     "output_type": "stream",
     "text": [
      "Loading model check point from ../outputs/voc_2007/train_VGG16/VGG16_SSDH1_iter_5024_acc_0.953.ckpt\n",
      "INFO:tensorflow:Restoring parameters from ../outputs/voc_2007/train_VGG16/VGG16_SSDH1_iter_5024_acc_0.953.ckpt\n",
      "Loaded.\n"
     ]
    }
   ],
   "source": [
    "print(('Loading model check point from {:s}').format(model_pn))\n",
    "saver = tf.train.Saver()\n",
    "saver.restore(sess, model_pn)\n",
    "print('Loaded.')"
   ]
  },
  {
   "cell_type": "code",
   "execution_count": 10,
   "metadata": {},
   "outputs": [],
   "source": [
    "def im_classify(sess, net, image, data_gen):\n",
    "    random_scale_inds = npr.randint(0, high=len(cfg.TEST_DEFAULT_SCALES),size=1)\n",
    "    \n",
    "    im_blob, im_scales = data_gen.built_image_blob([image], random_scale_inds)    \n",
    "    im_info = np.array([im_blob.shape[1], im_blob.shape[2], im_scales[0]], dtype=np.float32)    \n",
    "    blobs = {\"data\": im_blob, \"im_info\": im_info}\n",
    "    \n",
    "    cls_score, cls_prob, cls_pred, fc_emb, fc7 = net.test_image(sess, blobs)\n",
    "    \n",
    "    return cls_score, cls_prob, cls_pred, fc_emb, fc7\n",
    "\n",
    "def lp_to_names(lp, ds):\n",
    "    id_to_cls = {v:k for (k,v) in ds.cls_to_id.items()}\n",
    "    names = []\n",
    "    for i, b in enumerate(lp):\n",
    "        if b == 1:\n",
    "            names.append(id_to_cls[i+1])\n",
    "    \n",
    "    return names"
   ]
  },
  {
   "cell_type": "code",
   "execution_count": 11,
   "metadata": {},
   "outputs": [],
   "source": [
    "val_gen   = ROIGenerator(val_images, dataset, None, cfg)\n",
    "train_gen = ROIGenerator(train_images, dataset, None, cfg)"
   ]
  },
  {
   "cell_type": "markdown",
   "metadata": {},
   "source": [
    "#### Data Analysis"
   ]
  },
  {
   "cell_type": "code",
   "execution_count": 12,
   "metadata": {},
   "outputs": [
    {
     "name": "stdout",
     "output_type": "stream",
     "text": [
      "processed 0/4952\n"
     ]
    }
   ],
   "source": [
    "filenames = []\n",
    "pathnames = []\n",
    "all_lp = []\n",
    "all_labels = []\n",
    "cls_probs = []\n",
    "cls_preds = []\n",
    "fc_embs = []\n",
    "deep_feats = []\n",
    "\n",
    "\n",
    "\n",
    "for i, image in enumerate(val_images[:10]):\n",
    "    if i%500 == 0:\n",
    "        print(\"processed {}/{}\".format(i, len(val_images)))\n",
    "    \n",
    "    #raise NotImplementedError\n",
    "    try:\n",
    "        cls_score, cls_prob, cls_pred, fc_emb, fc7 = im_classify(sess, net, image, val_gen)\n",
    "        #pass\n",
    "    except:\n",
    "        print(\"[ALERT] exception on \", image.filename)\n",
    "        continue\n",
    "    filenames.append(image.filename)\n",
    "    pathnames.append(image.pathname)\n",
    "    lp = image.rois[\"gt\"][\"labels\"]\n",
    "    all_lp.append(lp)\n",
    "    labels = lp_to_names(lp, dataset)\n",
    "    all_labels.append(labels)    \n",
    "    cls_probs.append(cls_prob[0])\n",
    "    cls_preds.append(cls_pred[0])\n",
    "    fc_embs.append(fc_emb[0])\n",
    "    deep_feats.append(fc7[0])"
   ]
  },
  {
   "cell_type": "code",
   "execution_count": 13,
   "metadata": {},
   "outputs": [],
   "source": [
    "data = {\"filename\": filenames, \"pathname\": pathnames, \n",
    "       \"labels\": all_labels, \"lp\": all_lp, \n",
    "        \"cls_pred\": cls_preds, \"cls_prob\": cls_probs,\n",
    "        \"fc_emb\": fc_embs, \"fc7\": deep_feats}\n",
    "df_val_images = pd.DataFrame(data)"
   ]
  },
  {
   "cell_type": "code",
   "execution_count": 14,
   "metadata": {},
   "outputs": [
    {
     "data": {
      "text/plain": [
       "10"
      ]
     },
     "execution_count": 14,
     "metadata": {},
     "output_type": "execute_result"
    }
   ],
   "source": [
    "len(df_val_images)"
   ]
  },
  {
   "cell_type": "code",
   "execution_count": 15,
   "metadata": {},
   "outputs": [
    {
     "data": {
      "text/html": [
       "<div>\n",
       "<style scoped>\n",
       "    .dataframe tbody tr th:only-of-type {\n",
       "        vertical-align: middle;\n",
       "    }\n",
       "\n",
       "    .dataframe tbody tr th {\n",
       "        vertical-align: top;\n",
       "    }\n",
       "\n",
       "    .dataframe thead th {\n",
       "        text-align: right;\n",
       "    }\n",
       "</style>\n",
       "<table border=\"1\" class=\"dataframe\">\n",
       "  <thead>\n",
       "    <tr style=\"text-align: right;\">\n",
       "      <th></th>\n",
       "      <th>filename</th>\n",
       "      <th>pathname</th>\n",
       "      <th>labels</th>\n",
       "      <th>lp</th>\n",
       "      <th>cls_pred</th>\n",
       "      <th>cls_prob</th>\n",
       "      <th>fc_emb</th>\n",
       "      <th>fc7</th>\n",
       "    </tr>\n",
       "  </thead>\n",
       "  <tbody>\n",
       "    <tr>\n",
       "      <th>0</th>\n",
       "      <td>000001.jpg</td>\n",
       "      <td>/home/rfm/eclipse/python/region-dh/data/voc_20...</td>\n",
       "      <td>[dog, person]</td>\n",
       "      <td>[0, 0, 0, 0, 0, 0, 0, 0, 0, 0, 0, 1, 0, 0, 1, ...</td>\n",
       "      <td>[[0], [0], [0], [0], [0], [0], [0], [0], [0], ...</td>\n",
       "      <td>[[0.9992331, 0.0007668677], [0.99066156, 0.009...</td>\n",
       "      <td>[0.062033392, 0.9991524, 0.98536545, 0.8855191...</td>\n",
       "      <td>[0.0, 1.7489784, 0.027950786, 0.0, 0.0, 0.0, 0...</td>\n",
       "    </tr>\n",
       "    <tr>\n",
       "      <th>1</th>\n",
       "      <td>000002.jpg</td>\n",
       "      <td>/home/rfm/eclipse/python/region-dh/data/voc_20...</td>\n",
       "      <td>[train]</td>\n",
       "      <td>[0, 0, 0, 0, 0, 0, 0, 0, 0, 0, 0, 0, 0, 0, 0, ...</td>\n",
       "      <td>[[0], [0], [0], [0], [0], [0], [0], [0], [0], ...</td>\n",
       "      <td>[[0.9693308, 0.030669222], [0.98363566, 0.0163...</td>\n",
       "      <td>[0.94086075, 0.021649025, 0.006490744, 0.01212...</td>\n",
       "      <td>[1.6574028, 1.760202, 0.024582172, 0.021275401...</td>\n",
       "    </tr>\n",
       "    <tr>\n",
       "      <th>2</th>\n",
       "      <td>000003.jpg</td>\n",
       "      <td>/home/rfm/eclipse/python/region-dh/data/voc_20...</td>\n",
       "      <td>[chair, sofa]</td>\n",
       "      <td>[0, 0, 0, 0, 0, 0, 0, 0, 1, 0, 0, 0, 0, 0, 0, ...</td>\n",
       "      <td>[[0], [0], [0], [0], [0], [0], [1], [0], [0], ...</td>\n",
       "      <td>[[0.99496645, 0.005033529], [0.9270546, 0.0729...</td>\n",
       "      <td>[0.7677578, 0.021582494, 0.32228443, 0.0963709...</td>\n",
       "      <td>[0.8821423, 0.70566946, 1.4334462, 0.0, 0.6353...</td>\n",
       "    </tr>\n",
       "    <tr>\n",
       "      <th>3</th>\n",
       "      <td>000004.jpg</td>\n",
       "      <td>/home/rfm/eclipse/python/region-dh/data/voc_20...</td>\n",
       "      <td>[car]</td>\n",
       "      <td>[0, 0, 0, 0, 0, 0, 1, 0, 0, 0, 0, 0, 0, 0, 0, ...</td>\n",
       "      <td>[[0], [0], [0], [0], [0], [0], [1], [0], [0], ...</td>\n",
       "      <td>[[0.99502724, 0.0049727764], [0.955569, 0.0444...</td>\n",
       "      <td>[0.9916453, 0.0002975352, 0.0066284793, 0.4692...</td>\n",
       "      <td>[0.0, 0.0, 0.0, 0.0, 0.0, 0.0, 0.0, 0.7616861,...</td>\n",
       "    </tr>\n",
       "    <tr>\n",
       "      <th>4</th>\n",
       "      <td>000006.jpg</td>\n",
       "      <td>/home/rfm/eclipse/python/region-dh/data/voc_20...</td>\n",
       "      <td>[chair, diningtable, pottedplant]</td>\n",
       "      <td>[0, 0, 0, 0, 0, 0, 0, 0, 1, 0, 1, 0, 0, 0, 0, ...</td>\n",
       "      <td>[[0], [0], [0], [0], [0], [0], [0], [0], [1], ...</td>\n",
       "      <td>[[0.9979633, 0.0020366781], [0.9951567, 0.0048...</td>\n",
       "      <td>[1.0521643e-05, 0.99989235, 0.99015254, 0.0003...</td>\n",
       "      <td>[0.6179421, 3.4826717, 0.0, 0.0, 0.0, 0.0, 0.0...</td>\n",
       "    </tr>\n",
       "    <tr>\n",
       "      <th>5</th>\n",
       "      <td>000008.jpg</td>\n",
       "      <td>/home/rfm/eclipse/python/region-dh/data/voc_20...</td>\n",
       "      <td>[chair]</td>\n",
       "      <td>[0, 0, 0, 0, 0, 0, 0, 0, 1, 0, 0, 0, 0, 0, 0, ...</td>\n",
       "      <td>[[0], [0], [0], [0], [0], [0], [0], [0], [1], ...</td>\n",
       "      <td>[[0.9988111, 0.0011889], [0.9932233, 0.0067766...</td>\n",
       "      <td>[0.00029561477, 0.9995098, 0.98685116, 0.27422...</td>\n",
       "      <td>[0.0, 0.69737256, 0.0, 0.0, 0.0, 0.0, 0.0, 0.0...</td>\n",
       "    </tr>\n",
       "    <tr>\n",
       "      <th>6</th>\n",
       "      <td>000010.jpg</td>\n",
       "      <td>/home/rfm/eclipse/python/region-dh/data/voc_20...</td>\n",
       "      <td>[horse, person]</td>\n",
       "      <td>[0, 0, 0, 0, 0, 0, 0, 0, 0, 0, 0, 0, 1, 0, 1, ...</td>\n",
       "      <td>[[0], [0], [0], [0], [0], [0], [0], [0], [0], ...</td>\n",
       "      <td>[[0.98786724, 0.012132747], [0.9713618, 0.0286...</td>\n",
       "      <td>[0.9158835, 0.014124763, 0.73582923, 0.9999304...</td>\n",
       "      <td>[0.0, 0.0, 0.16516474, 0.0, 0.0, 0.0, 0.625433...</td>\n",
       "    </tr>\n",
       "    <tr>\n",
       "      <th>7</th>\n",
       "      <td>000011.jpg</td>\n",
       "      <td>/home/rfm/eclipse/python/region-dh/data/voc_20...</td>\n",
       "      <td>[cat]</td>\n",
       "      <td>[0, 0, 0, 0, 0, 0, 0, 1, 0, 0, 0, 0, 0, 0, 0, ...</td>\n",
       "      <td>[[0], [0], [0], [0], [0], [0], [0], [1], [0], ...</td>\n",
       "      <td>[[0.992184, 0.007816067], [0.9970687, 0.002931...</td>\n",
       "      <td>[0.88111454, 0.9996916, 0.99611914, 0.15701412...</td>\n",
       "      <td>[0.0, 0.17468472, 2.57124, 0.0, 1.8176091, 0.0...</td>\n",
       "    </tr>\n",
       "    <tr>\n",
       "      <th>8</th>\n",
       "      <td>000013.jpg</td>\n",
       "      <td>/home/rfm/eclipse/python/region-dh/data/voc_20...</td>\n",
       "      <td>[cow]</td>\n",
       "      <td>[0, 0, 0, 0, 0, 0, 0, 0, 0, 1, 0, 0, 0, 0, 0, ...</td>\n",
       "      <td>[[0], [0], [0], [0], [0], [0], [0], [0], [0], ...</td>\n",
       "      <td>[[0.9857663, 0.014233694], [0.99679357, 0.0032...</td>\n",
       "      <td>[0.99989176, 0.9978721, 1.9263342e-05, 0.00076...</td>\n",
       "      <td>[0.0, 0.0, 0.28673437, 2.2741349, 0.16053562, ...</td>\n",
       "    </tr>\n",
       "    <tr>\n",
       "      <th>9</th>\n",
       "      <td>000014.jpg</td>\n",
       "      <td>/home/rfm/eclipse/python/region-dh/data/voc_20...</td>\n",
       "      <td>[bus, car, person]</td>\n",
       "      <td>[0, 0, 0, 0, 0, 1, 1, 0, 0, 0, 0, 0, 0, 0, 1, ...</td>\n",
       "      <td>[[0], [0], [0], [0], [0], [0], [1], [0], [0], ...</td>\n",
       "      <td>[[0.9949732, 0.0050268085], [0.98050094, 0.019...</td>\n",
       "      <td>[0.99851304, 0.0001071809, 0.00034636518, 0.08...</td>\n",
       "      <td>[0.0, 0.0, 0.0, 1.1848519, 0.018389458, 0.0, 0...</td>\n",
       "    </tr>\n",
       "  </tbody>\n",
       "</table>\n",
       "</div>"
      ],
      "text/plain": [
       "     filename                                           pathname  \\\n",
       "0  000001.jpg  /home/rfm/eclipse/python/region-dh/data/voc_20...   \n",
       "1  000002.jpg  /home/rfm/eclipse/python/region-dh/data/voc_20...   \n",
       "2  000003.jpg  /home/rfm/eclipse/python/region-dh/data/voc_20...   \n",
       "3  000004.jpg  /home/rfm/eclipse/python/region-dh/data/voc_20...   \n",
       "4  000006.jpg  /home/rfm/eclipse/python/region-dh/data/voc_20...   \n",
       "5  000008.jpg  /home/rfm/eclipse/python/region-dh/data/voc_20...   \n",
       "6  000010.jpg  /home/rfm/eclipse/python/region-dh/data/voc_20...   \n",
       "7  000011.jpg  /home/rfm/eclipse/python/region-dh/data/voc_20...   \n",
       "8  000013.jpg  /home/rfm/eclipse/python/region-dh/data/voc_20...   \n",
       "9  000014.jpg  /home/rfm/eclipse/python/region-dh/data/voc_20...   \n",
       "\n",
       "                              labels  \\\n",
       "0                      [dog, person]   \n",
       "1                            [train]   \n",
       "2                      [chair, sofa]   \n",
       "3                              [car]   \n",
       "4  [chair, diningtable, pottedplant]   \n",
       "5                            [chair]   \n",
       "6                    [horse, person]   \n",
       "7                              [cat]   \n",
       "8                              [cow]   \n",
       "9                 [bus, car, person]   \n",
       "\n",
       "                                                  lp  \\\n",
       "0  [0, 0, 0, 0, 0, 0, 0, 0, 0, 0, 0, 1, 0, 0, 1, ...   \n",
       "1  [0, 0, 0, 0, 0, 0, 0, 0, 0, 0, 0, 0, 0, 0, 0, ...   \n",
       "2  [0, 0, 0, 0, 0, 0, 0, 0, 1, 0, 0, 0, 0, 0, 0, ...   \n",
       "3  [0, 0, 0, 0, 0, 0, 1, 0, 0, 0, 0, 0, 0, 0, 0, ...   \n",
       "4  [0, 0, 0, 0, 0, 0, 0, 0, 1, 0, 1, 0, 0, 0, 0, ...   \n",
       "5  [0, 0, 0, 0, 0, 0, 0, 0, 1, 0, 0, 0, 0, 0, 0, ...   \n",
       "6  [0, 0, 0, 0, 0, 0, 0, 0, 0, 0, 0, 0, 1, 0, 1, ...   \n",
       "7  [0, 0, 0, 0, 0, 0, 0, 1, 0, 0, 0, 0, 0, 0, 0, ...   \n",
       "8  [0, 0, 0, 0, 0, 0, 0, 0, 0, 1, 0, 0, 0, 0, 0, ...   \n",
       "9  [0, 0, 0, 0, 0, 1, 1, 0, 0, 0, 0, 0, 0, 0, 1, ...   \n",
       "\n",
       "                                            cls_pred  \\\n",
       "0  [[0], [0], [0], [0], [0], [0], [0], [0], [0], ...   \n",
       "1  [[0], [0], [0], [0], [0], [0], [0], [0], [0], ...   \n",
       "2  [[0], [0], [0], [0], [0], [0], [1], [0], [0], ...   \n",
       "3  [[0], [0], [0], [0], [0], [0], [1], [0], [0], ...   \n",
       "4  [[0], [0], [0], [0], [0], [0], [0], [0], [1], ...   \n",
       "5  [[0], [0], [0], [0], [0], [0], [0], [0], [1], ...   \n",
       "6  [[0], [0], [0], [0], [0], [0], [0], [0], [0], ...   \n",
       "7  [[0], [0], [0], [0], [0], [0], [0], [1], [0], ...   \n",
       "8  [[0], [0], [0], [0], [0], [0], [0], [0], [0], ...   \n",
       "9  [[0], [0], [0], [0], [0], [0], [1], [0], [0], ...   \n",
       "\n",
       "                                            cls_prob  \\\n",
       "0  [[0.9992331, 0.0007668677], [0.99066156, 0.009...   \n",
       "1  [[0.9693308, 0.030669222], [0.98363566, 0.0163...   \n",
       "2  [[0.99496645, 0.005033529], [0.9270546, 0.0729...   \n",
       "3  [[0.99502724, 0.0049727764], [0.955569, 0.0444...   \n",
       "4  [[0.9979633, 0.0020366781], [0.9951567, 0.0048...   \n",
       "5  [[0.9988111, 0.0011889], [0.9932233, 0.0067766...   \n",
       "6  [[0.98786724, 0.012132747], [0.9713618, 0.0286...   \n",
       "7  [[0.992184, 0.007816067], [0.9970687, 0.002931...   \n",
       "8  [[0.9857663, 0.014233694], [0.99679357, 0.0032...   \n",
       "9  [[0.9949732, 0.0050268085], [0.98050094, 0.019...   \n",
       "\n",
       "                                              fc_emb  \\\n",
       "0  [0.062033392, 0.9991524, 0.98536545, 0.8855191...   \n",
       "1  [0.94086075, 0.021649025, 0.006490744, 0.01212...   \n",
       "2  [0.7677578, 0.021582494, 0.32228443, 0.0963709...   \n",
       "3  [0.9916453, 0.0002975352, 0.0066284793, 0.4692...   \n",
       "4  [1.0521643e-05, 0.99989235, 0.99015254, 0.0003...   \n",
       "5  [0.00029561477, 0.9995098, 0.98685116, 0.27422...   \n",
       "6  [0.9158835, 0.014124763, 0.73582923, 0.9999304...   \n",
       "7  [0.88111454, 0.9996916, 0.99611914, 0.15701412...   \n",
       "8  [0.99989176, 0.9978721, 1.9263342e-05, 0.00076...   \n",
       "9  [0.99851304, 0.0001071809, 0.00034636518, 0.08...   \n",
       "\n",
       "                                                 fc7  \n",
       "0  [0.0, 1.7489784, 0.027950786, 0.0, 0.0, 0.0, 0...  \n",
       "1  [1.6574028, 1.760202, 0.024582172, 0.021275401...  \n",
       "2  [0.8821423, 0.70566946, 1.4334462, 0.0, 0.6353...  \n",
       "3  [0.0, 0.0, 0.0, 0.0, 0.0, 0.0, 0.0, 0.7616861,...  \n",
       "4  [0.6179421, 3.4826717, 0.0, 0.0, 0.0, 0.0, 0.0...  \n",
       "5  [0.0, 0.69737256, 0.0, 0.0, 0.0, 0.0, 0.0, 0.0...  \n",
       "6  [0.0, 0.0, 0.16516474, 0.0, 0.0, 0.0, 0.625433...  \n",
       "7  [0.0, 0.17468472, 2.57124, 0.0, 1.8176091, 0.0...  \n",
       "8  [0.0, 0.0, 0.28673437, 2.2741349, 0.16053562, ...  \n",
       "9  [0.0, 0.0, 0.0, 1.1848519, 0.018389458, 0.0, 0...  "
      ]
     },
     "execution_count": 15,
     "metadata": {},
     "output_type": "execute_result"
    }
   ],
   "source": [
    "df_val_images.head(10)"
   ]
  },
  {
   "cell_type": "code",
   "execution_count": 40,
   "metadata": {},
   "outputs": [],
   "source": [
    "with open(\"../data/voc_2007/20180810_df_val_images_SSDH.wl2.try-memb1.pkl\",'wb') as fp:\n",
    "    pickle.dump(df_val_images, fp)"
   ]
  },
  {
   "cell_type": "code",
   "execution_count": 16,
   "metadata": {},
   "outputs": [
    {
     "data": {
      "text/html": [
       "<div>\n",
       "<style scoped>\n",
       "    .dataframe tbody tr th:only-of-type {\n",
       "        vertical-align: middle;\n",
       "    }\n",
       "\n",
       "    .dataframe tbody tr th {\n",
       "        vertical-align: top;\n",
       "    }\n",
       "\n",
       "    .dataframe thead th {\n",
       "        text-align: right;\n",
       "    }\n",
       "</style>\n",
       "<table border=\"1\" class=\"dataframe\">\n",
       "  <thead>\n",
       "    <tr style=\"text-align: right;\">\n",
       "      <th></th>\n",
       "      <th>filename</th>\n",
       "      <th>pathname</th>\n",
       "      <th>labels</th>\n",
       "      <th>lp</th>\n",
       "      <th>cls_pred</th>\n",
       "      <th>cls_prob</th>\n",
       "      <th>fc_emb</th>\n",
       "      <th>fc7</th>\n",
       "    </tr>\n",
       "  </thead>\n",
       "  <tbody>\n",
       "    <tr>\n",
       "      <th>4</th>\n",
       "      <td>000006.jpg</td>\n",
       "      <td>/home/rfm/eclipse/python/region-dh/data/voc_20...</td>\n",
       "      <td>[chair, diningtable, pottedplant]</td>\n",
       "      <td>[0, 0, 0, 0, 0, 0, 0, 0, 1, 0, 1, 0, 0, 0, 0, ...</td>\n",
       "      <td>[[0], [0], [0], [0], [0], [0], [0], [0], [1], ...</td>\n",
       "      <td>[[0.9979633, 0.0020366781], [0.9951567, 0.0048...</td>\n",
       "      <td>[1.0521643e-05, 0.99989235, 0.99015254, 0.0003...</td>\n",
       "      <td>[0.6179421, 3.4826717, 0.0, 0.0, 0.0, 0.0, 0.0...</td>\n",
       "    </tr>\n",
       "  </tbody>\n",
       "</table>\n",
       "</div>"
      ],
      "text/plain": [
       "     filename                                           pathname  \\\n",
       "4  000006.jpg  /home/rfm/eclipse/python/region-dh/data/voc_20...   \n",
       "\n",
       "                              labels  \\\n",
       "4  [chair, diningtable, pottedplant]   \n",
       "\n",
       "                                                  lp  \\\n",
       "4  [0, 0, 0, 0, 0, 0, 0, 0, 1, 0, 1, 0, 0, 0, 0, ...   \n",
       "\n",
       "                                            cls_pred  \\\n",
       "4  [[0], [0], [0], [0], [0], [0], [0], [0], [1], ...   \n",
       "\n",
       "                                            cls_prob  \\\n",
       "4  [[0.9979633, 0.0020366781], [0.9951567, 0.0048...   \n",
       "\n",
       "                                              fc_emb  \\\n",
       "4  [1.0521643e-05, 0.99989235, 0.99015254, 0.0003...   \n",
       "\n",
       "                                                 fc7  \n",
       "4  [0.6179421, 3.4826717, 0.0, 0.0, 0.0, 0.0, 0.0...  "
      ]
     },
     "execution_count": 16,
     "metadata": {},
     "output_type": "execute_result"
    }
   ],
   "source": [
    "df_val_images[df_val_images[\"filename\"] == \"000006.jpg\"]"
   ]
  },
  {
   "cell_type": "code",
   "execution_count": 17,
   "metadata": {},
   "outputs": [
    {
     "name": "stdout",
     "output_type": "stream",
     "text": [
      "[0 1 1 0 1 0 0 0 1 1 1 1 0 1 1 1 0 0 0 0 0 0 1 1 1 1 1 1 1 0 1 0 0 1 0 0 1\n",
      " 0 0 0 0 0 1 1 1 1 1 0]\n"
     ]
    }
   ],
   "source": [
    "fc_emb1 = list(df_val_images[df_val_images[\"filename\"] == \"000006.jpg\"][\"fc_emb\"])[0]\n",
    "fc_hash1 = np.where(fc_emb1 >= 0.5, 1, 0)\n",
    "#fc_hash1 = np.reshape(fc_hash1, [-1])\n",
    "#print(fc_emb1[8])\n",
    "print(fc_hash1)"
   ]
  },
  {
   "cell_type": "code",
   "execution_count": 17,
   "metadata": {},
   "outputs": [
    {
     "name": "stdout",
     "output_type": "stream",
     "text": [
      "[0 1 1 0 1 0 0 1 1 1 1 1 0 1 1 0 0 0 0 0 0 0 1 1 1 1 1 1 1 0 1 0 0 1 0 0 1\n",
      " 0 0 0 0 0 1 1 1 1 1 0]\n"
     ]
    }
   ],
   "source": [
    "fc_emb1 = list(df_val_images[df_val_images[\"filename\"] == \"000006.jpg\"][\"fc_emb\"])[0]\n",
    "fc_hash1 = np.where(fc_emb1 >= 0.5, 1, 0)\n",
    "fc_hash1 = np.reshape(fc_hash1, [-1])\n",
    "#print(fc_emb1[8])\n",
    "print(fc_hash1)"
   ]
  },
  {
   "cell_type": "code",
   "execution_count": 20,
   "metadata": {},
   "outputs": [
    {
     "data": {
      "text/html": [
       "<div>\n",
       "<style scoped>\n",
       "    .dataframe tbody tr th:only-of-type {\n",
       "        vertical-align: middle;\n",
       "    }\n",
       "\n",
       "    .dataframe tbody tr th {\n",
       "        vertical-align: top;\n",
       "    }\n",
       "\n",
       "    .dataframe thead th {\n",
       "        text-align: right;\n",
       "    }\n",
       "</style>\n",
       "<table border=\"1\" class=\"dataframe\">\n",
       "  <thead>\n",
       "    <tr style=\"text-align: right;\">\n",
       "      <th></th>\n",
       "      <th>filename</th>\n",
       "      <th>pathname</th>\n",
       "      <th>labels</th>\n",
       "      <th>lp</th>\n",
       "      <th>cls_pred</th>\n",
       "      <th>cls_prob</th>\n",
       "      <th>fc_emb</th>\n",
       "      <th>fc7</th>\n",
       "    </tr>\n",
       "  </thead>\n",
       "  <tbody>\n",
       "    <tr>\n",
       "      <th>5</th>\n",
       "      <td>000008.jpg</td>\n",
       "      <td>/home/rfm/eclipse/python/region-dh/data/voc_20...</td>\n",
       "      <td>[chair]</td>\n",
       "      <td>[0, 0, 0, 0, 0, 0, 0, 0, 1, 0, 0, 0, 0, 0, 0, ...</td>\n",
       "      <td>[[0], [0], [0], [0], [0], [0], [0], [0], [1], ...</td>\n",
       "      <td>[[0.9988111, 0.0011889], [0.9932233, 0.0067766...</td>\n",
       "      <td>[0.00029561477, 0.9995098, 0.98685116, 0.27422...</td>\n",
       "      <td>[0.0, 0.69737256, 0.0, 0.0, 0.0, 0.0, 0.0, 0.0...</td>\n",
       "    </tr>\n",
       "  </tbody>\n",
       "</table>\n",
       "</div>"
      ],
      "text/plain": [
       "     filename                                           pathname   labels  \\\n",
       "5  000008.jpg  /home/rfm/eclipse/python/region-dh/data/voc_20...  [chair]   \n",
       "\n",
       "                                                  lp  \\\n",
       "5  [0, 0, 0, 0, 0, 0, 0, 0, 1, 0, 0, 0, 0, 0, 0, ...   \n",
       "\n",
       "                                            cls_pred  \\\n",
       "5  [[0], [0], [0], [0], [0], [0], [0], [0], [1], ...   \n",
       "\n",
       "                                            cls_prob  \\\n",
       "5  [[0.9988111, 0.0011889], [0.9932233, 0.0067766...   \n",
       "\n",
       "                                              fc_emb  \\\n",
       "5  [0.00029561477, 0.9995098, 0.98685116, 0.27422...   \n",
       "\n",
       "                                                 fc7  \n",
       "5  [0.0, 0.69737256, 0.0, 0.0, 0.0, 0.0, 0.0, 0.0...  "
      ]
     },
     "execution_count": 20,
     "metadata": {},
     "output_type": "execute_result"
    }
   ],
   "source": [
    "df_val_images[df_val_images[\"filename\"] == \"000008.jpg\"]"
   ]
  },
  {
   "cell_type": "code",
   "execution_count": 21,
   "metadata": {},
   "outputs": [
    {
     "name": "stdout",
     "output_type": "stream",
     "text": [
      "[0 1 1 0 0 0 0 0 1 1 1 1 0 1 1 0 0 0 0 0 0 0 1 1 1 1 0 1 0 0 1 1 0 1 0 0 1\n",
      " 0 0 0 0 0 1 1 1 1 1 0]\n"
     ]
    }
   ],
   "source": [
    "fc_emb2 = list(df_val_images[df_val_images[\"filename\"] == \"000008.jpg\"][\"fc_emb\"])[0]\n",
    "fc_hash2 = np.where(fc_emb2 >= 0.5, 1, 0)\n",
    "fc_hash2 = np.reshape(fc_hash2, [-1])\n",
    "#print(fc_emb2[8])\n",
    "print(fc_hash2)"
   ]
  },
  {
   "cell_type": "code",
   "execution_count": 22,
   "metadata": {},
   "outputs": [
    {
     "data": {
      "text/html": [
       "<div>\n",
       "<style scoped>\n",
       "    .dataframe tbody tr th:only-of-type {\n",
       "        vertical-align: middle;\n",
       "    }\n",
       "\n",
       "    .dataframe tbody tr th {\n",
       "        vertical-align: top;\n",
       "    }\n",
       "\n",
       "    .dataframe thead th {\n",
       "        text-align: right;\n",
       "    }\n",
       "</style>\n",
       "<table border=\"1\" class=\"dataframe\">\n",
       "  <thead>\n",
       "    <tr style=\"text-align: right;\">\n",
       "      <th></th>\n",
       "      <th>filename</th>\n",
       "      <th>pathname</th>\n",
       "      <th>labels</th>\n",
       "      <th>lp</th>\n",
       "      <th>cls_pred</th>\n",
       "      <th>cls_prob</th>\n",
       "      <th>fc_emb</th>\n",
       "      <th>fc7</th>\n",
       "    </tr>\n",
       "  </thead>\n",
       "  <tbody>\n",
       "    <tr>\n",
       "      <th>1</th>\n",
       "      <td>000002.jpg</td>\n",
       "      <td>/home/rfm/eclipse/python/region-dh/data/voc_20...</td>\n",
       "      <td>[train]</td>\n",
       "      <td>[0, 0, 0, 0, 0, 0, 0, 0, 0, 0, 0, 0, 0, 0, 0, ...</td>\n",
       "      <td>[[0], [0], [0], [0], [0], [0], [0], [0], [0], ...</td>\n",
       "      <td>[[0.9693308, 0.030669222], [0.98363566, 0.0163...</td>\n",
       "      <td>[0.94086075, 0.021649025, 0.006490744, 0.01212...</td>\n",
       "      <td>[1.6574028, 1.760202, 0.024582172, 0.021275401...</td>\n",
       "    </tr>\n",
       "  </tbody>\n",
       "</table>\n",
       "</div>"
      ],
      "text/plain": [
       "     filename                                           pathname   labels  \\\n",
       "1  000002.jpg  /home/rfm/eclipse/python/region-dh/data/voc_20...  [train]   \n",
       "\n",
       "                                                  lp  \\\n",
       "1  [0, 0, 0, 0, 0, 0, 0, 0, 0, 0, 0, 0, 0, 0, 0, ...   \n",
       "\n",
       "                                            cls_pred  \\\n",
       "1  [[0], [0], [0], [0], [0], [0], [0], [0], [0], ...   \n",
       "\n",
       "                                            cls_prob  \\\n",
       "1  [[0.9693308, 0.030669222], [0.98363566, 0.0163...   \n",
       "\n",
       "                                              fc_emb  \\\n",
       "1  [0.94086075, 0.021649025, 0.006490744, 0.01212...   \n",
       "\n",
       "                                                 fc7  \n",
       "1  [1.6574028, 1.760202, 0.024582172, 0.021275401...  "
      ]
     },
     "execution_count": 22,
     "metadata": {},
     "output_type": "execute_result"
    }
   ],
   "source": [
    "df_val_images[df_val_images[\"filename\"] == \"000002.jpg\"]"
   ]
  },
  {
   "cell_type": "code",
   "execution_count": 23,
   "metadata": {},
   "outputs": [
    {
     "name": "stdout",
     "output_type": "stream",
     "text": [
      "[1 0 0 0 1 0 0 1 0 1 0 1 1 1 1 0 1 0 0 0 1 1 0 1 1 0 1 0 1 0 1 0 1 0 0 1 0\n",
      " 1 0 0 1 1 0 1 1 0 1 0]\n"
     ]
    }
   ],
   "source": [
    "fc_emb3 = list(df_val_images[df_val_images[\"filename\"] == \"000002.jpg\"][\"fc_emb\"])[0]\n",
    "fc_hash3 = np.where(fc_emb3 >= 0.5, 1, 0)\n",
    "fc_hash3 = np.reshape(fc_hash3, [-1])\n",
    "#print(fc_emb2[8])\n",
    "print(fc_hash3)"
   ]
  },
  {
   "cell_type": "code",
   "execution_count": 24,
   "metadata": {},
   "outputs": [
    {
     "data": {
      "text/plain": [
       "array([0.10416667])"
      ]
     },
     "execution_count": 24,
     "metadata": {},
     "output_type": "execute_result"
    }
   ],
   "source": [
    "#pairwise_distances(np.array([fc_hash1[8]]), np.array([fc_hash2[8]]), 'hamming')[0]\n",
    "pairwise_distances(np.array([fc_hash1]), np.array([fc_hash2]), 'hamming')[0]"
   ]
  },
  {
   "cell_type": "code",
   "execution_count": 25,
   "metadata": {},
   "outputs": [
    {
     "data": {
      "text/plain": [
       "array([0.47916667])"
      ]
     },
     "execution_count": 25,
     "metadata": {},
     "output_type": "execute_result"
    }
   ],
   "source": [
    "#pairwise_distances(np.array([fc_hash1[8]]), np.array([fc_hash3[8]]), 'hamming')[0]\n",
    "pairwise_distances(np.array([fc_hash1]), np.array([fc_hash3]), 'hamming')[0]"
   ]
  },
  {
   "cell_type": "code",
   "execution_count": 26,
   "metadata": {},
   "outputs": [
    {
     "data": {
      "text/plain": [
       "array([0.54166667])"
      ]
     },
     "execution_count": 26,
     "metadata": {},
     "output_type": "execute_result"
    }
   ],
   "source": [
    "#pairwise_distances(np.array([fc_hash2[8]]), np.array([fc_hash3[8]]), 'hamming')[0]\n",
    "pairwise_distances(np.array([fc_hash2]), np.array([fc_hash3]), 'hamming')[0]"
   ]
  },
  {
   "cell_type": "code",
   "execution_count": null,
   "metadata": {},
   "outputs": [],
   "source": []
  }
 ],
 "metadata": {
  "kernelspec": {
   "display_name": "tensorflow_py36",
   "language": "python",
   "name": "tensorflow_py36"
  },
  "language_info": {
   "codemirror_mode": {
    "name": "ipython",
    "version": 3
   },
   "file_extension": ".py",
   "mimetype": "text/x-python",
   "name": "python",
   "nbconvert_exporter": "python",
   "pygments_lexer": "ipython3",
   "version": "3.6.2"
  }
 },
 "nbformat": 4,
 "nbformat_minor": 2
}
