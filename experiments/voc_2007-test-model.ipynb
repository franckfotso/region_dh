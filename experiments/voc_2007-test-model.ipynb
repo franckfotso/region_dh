{
 "cells": [
  {
   "cell_type": "code",
   "execution_count": 1,
   "metadata": {},
   "outputs": [],
   "source": [
    "import _init_paths\n",
    "import os, sys, cv2, pickle\n",
    "import os.path as osp\n",
    "import numpy as np\n",
    "import tensorflow as tf\n",
    "import matplotlib.pyplot as plt\n",
    "import numpy.random as npr\n",
    "import pandas as pd\n",
    "\n",
    "from Config import Config\n",
    "from datasets.Pascal import Pascal\n",
    "from datasets.ROIGenerator import ROIGenerator\n",
    "from nets.VGG16_SSDH import VGG16_SSDH"
   ]
  },
  {
   "cell_type": "code",
   "execution_count": 2,
   "metadata": {},
   "outputs": [],
   "source": [
    "# setup & load configs\n",
    "_C = Config(config_pn=\"../config/config.ini\")\n",
    "cfg = _C.cfg"
   ]
  },
  {
   "cell_type": "code",
   "execution_count": 3,
   "metadata": {},
   "outputs": [],
   "source": [
    "ds_name = \"voc_2007\"\n",
    "#model_pn = \"../outputs/voc_2007/train_VGG16/VGG16_SSDH_iter_9396_acc_0.944.ckpt\" # try 1\n",
    "#model_pn = \"../outputs_G1/voc_2007/train_VGG16/VGG16_SSDH_iter_9396_acc_0.977.ckpt\" # try 2\n",
    "#model_pn = \"../outputs/voc_2007/train_VGG16/VGG16_SSDH_iter_9396_acc_0.937.ckpt\" # try 3\n",
    "#model_pn = \"../outputs_G1/voc_2007/train_VGG16/VGG16_SSDH_iter_9396_acc_0.962.ckpt\" # try 4\n",
    "model_pn = \"../outputs/voc_2007/train_VGG16/VGG16_SSDH_iter_9396_acc_0.907.ckpt\" # fc_emb, try 2"
   ]
  },
  {
   "cell_type": "code",
   "execution_count": 4,
   "metadata": {},
   "outputs": [
    {
     "name": "stdout",
     "output_type": "stream",
     "text": [
      "[INFO] dataset.name: voc_2007\n",
      "[INFO] dataset.num_cls: 21\n",
      "[INFO] dataset.train: 2501\n",
      "[INFO] dataset.trainval: 5011\n",
      "[INFO] dataset.test: 4952\n",
      "[INFO] dataset.val: 2510\n"
     ]
    }
   ],
   "source": [
    "dataset_DIR = osp.join(cfg.MAIN_DIR_ROOT, \"data\", ds_name)\n",
    "dataset = Pascal(name=ds_name, path_dir=dataset_DIR, cfg=cfg)\n",
    "dataset.load_sets()\n",
    "print ('[INFO] dataset.name: {}'.format(dataset.name))\n",
    "print ('[INFO] dataset.num_cls: {}'.format(dataset.num_cls))\n",
    "print ('[INFO] dataset.train: {}'.format(dataset.sets[\"train\"][\"num_items\"]))\n",
    "print ('[INFO] dataset.trainval: {}'.format(dataset.sets[\"trainval\"][\"num_items\"]))\n",
    "print ('[INFO] dataset.test: {}'.format(dataset.sets[\"test\"][\"num_items\"]))\n",
    "print ('[INFO] dataset.val: {}'.format(dataset.sets[\"val\"][\"num_items\"]))"
   ]
  },
  {
   "cell_type": "code",
   "execution_count": 5,
   "metadata": {},
   "outputs": [
    {
     "name": "stdout",
     "output_type": "stream",
     "text": [
      "[INFO] loading gt rois for voc_2007...\n",
      "[INFO] images with gt loaded from /home/rfm/eclipse/python/region-dh/cache/voc_2007_gt_trainval_images.pkl\n",
      "[INFO] loading gt rois for voc_2007...\n",
      "[INFO] images with gt loaded from /home/rfm/eclipse/python/region-dh/cache/voc_2007_gt_test_images.pkl\n",
      "[INFO] train_images.num: 10022\n",
      "[INFO] val_images.num: 4952\n"
     ]
    }
   ],
   "source": [
    "train_images, pos_weights = dataset.load_gt_rois(gt_set=\"trainval\")\n",
    "val_images, _ = dataset.load_gt_rois(gt_set=\"test\")\n",
    "print ('[INFO] train_images.num: {}'.format(len(train_images)))\n",
    "print ('[INFO] val_images.num: {}'.format(len(val_images)))"
   ]
  },
  {
   "cell_type": "code",
   "execution_count": 6,
   "metadata": {},
   "outputs": [],
   "source": [
    "tfconfig = tf.ConfigProto(allow_soft_placement=True)\n",
    "tfconfig.gpu_options.allow_growth=True\n",
    "# init session\n",
    "sess = tf.Session(config=tfconfig)"
   ]
  },
  {
   "cell_type": "code",
   "execution_count": 7,
   "metadata": {},
   "outputs": [
    {
     "name": "stdout",
     "output_type": "stream",
     "text": [
      "pool5.shape:  (1, ?, ?, 512)\n",
      "fc7.shape:  (1, 1, 1, 4096)\n",
      "cls_score.shape:  (1, 1, 1, 20)\n"
     ]
    },
    {
     "data": {
      "text/plain": [
       "{'fc7': <tf.Tensor 'Reshape:0' shape=(1, 4096) dtype=float32>,\n",
       " 'fc_emb': <tf.Tensor 'vgg_16_2/Reshape:0' shape=(1, 48) dtype=float32>,\n",
       " 'cls_score': <tf.Tensor 'vgg_16_2/cls_score/BiasAdd:0' shape=(1, 1, 1, 20) dtype=float32>,\n",
       " 'cls_prob': <tf.Tensor 'vgg_16_2/Reshape_1:0' shape=(1, 20) dtype=float32>,\n",
       " 'cls_pred': <tf.Tensor 'vgg_16_2/Reshape_2:0' shape=(1, 20) dtype=int32>}"
      ]
     },
     "execution_count": 7,
     "metadata": {},
     "output_type": "execute_result"
    }
   ],
   "source": [
    "cfg.TEST_BATCH_CFC_NUM_IMG = 1\n",
    "num_bits = 48\n",
    "net = VGG16_SSDH(cfg, num_bits, multilabel=True)\n",
    "net.create_architecture('TEST', dataset.num_cls, tag='default')"
   ]
  },
  {
   "cell_type": "code",
   "execution_count": 8,
   "metadata": {},
   "outputs": [
    {
     "name": "stdout",
     "output_type": "stream",
     "text": [
      "Loading model check point from ../outputs/voc_2007/train_VGG16/VGG16_SSDH_iter_9396_acc_0.907.ckpt\n",
      "INFO:tensorflow:Restoring parameters from ../outputs/voc_2007/train_VGG16/VGG16_SSDH_iter_9396_acc_0.907.ckpt\n",
      "Loaded.\n"
     ]
    }
   ],
   "source": [
    "print(('Loading model check point from {:s}').format(model_pn))\n",
    "saver = tf.train.Saver()\n",
    "saver.restore(sess, model_pn)\n",
    "print('Loaded.')"
   ]
  },
  {
   "cell_type": "code",
   "execution_count": 9,
   "metadata": {},
   "outputs": [],
   "source": [
    "def im_classify(sess, net, image, data_gen):\n",
    "    random_scale_inds = npr.randint(0, high=len(cfg.TEST_DEFAULT_SCALES),size=1)\n",
    "    \n",
    "    im_blob, im_scales = data_gen.built_image_blob([image], random_scale_inds)\n",
    "    #label_blob = data_gen.built_label_blob([image])\n",
    "    \n",
    "    cls_score, cls_prob, cls_pred, fc_emb, fc7 = net.test_image(sess, im_blob)\n",
    "    \n",
    "    return cls_score, cls_prob, cls_pred"
   ]
  },
  {
   "cell_type": "code",
   "execution_count": 10,
   "metadata": {},
   "outputs": [],
   "source": [
    "val_gen = ROIGenerator(val_images, dataset, None, cfg)"
   ]
  },
  {
   "cell_type": "code",
   "execution_count": 11,
   "metadata": {},
   "outputs": [],
   "source": [
    "def lp_to_names(lp, ds):\n",
    "    id_to_cls = {v:k for (k,v) in ds.cls_to_id.items()}\n",
    "    names = []\n",
    "    for i, b in enumerate(lp):\n",
    "        if b == 1:\n",
    "            names.append(id_to_cls[i+1])\n",
    "    \n",
    "    return names"
   ]
  },
  {
   "cell_type": "code",
   "execution_count": 19,
   "metadata": {},
   "outputs": [
    {
     "name": "stdout",
     "output_type": "stream",
     "text": [
      "image.lp:  [0 0 0 1 0 0 0 0 0 0 0 0 0 0 0 0 0 0 0 0]\n",
      "image.labels:  ['boat']\n",
      "gt_classes:  [4]\n"
     ]
    },
    {
     "data": {
      "image/png": "[encoded data removed]",
      "text/plain": [
       "<Figure size 432x288 with 1 Axes>"
      ]
     },
     "metadata": {},
     "output_type": "display_data"
    }
   ],
   "source": [
    "# visualize image\n",
    "np.random.shuffle(val_images)\n",
    "image = val_images[0]\n",
    "im_RAW = cv2.imread(image.pathname)   \n",
    "im_RAW = cv2.cvtColor(im_RAW, cv2.COLOR_BGR2RGB)\n",
    "lp = image.rois[\"gt\"][\"labels\"]\n",
    "labels = lp_to_names(lp, dataset)\n",
    "gt_classes = image.rois[\"gt\"][\"gt_classes\"]\n",
    "print(\"image.lp: \", lp)\n",
    "print(\"image.labels: \", labels)\n",
    "print(\"gt_classes: \", gt_classes)\n",
    "plt.imshow(im_RAW)\n",
    "_ = plt.axis(\"off\")"
   ]
  },
  {
   "cell_type": "code",
   "execution_count": 20,
   "metadata": {},
   "outputs": [],
   "source": [
    "cls_score, cls_prob, cls_pred = im_classify(sess, net, image, val_gen)"
   ]
  },
  {
   "cell_type": "code",
   "execution_count": 21,
   "metadata": {},
   "outputs": [
    {
     "name": "stdout",
     "output_type": "stream",
     "text": [
      "labels:  ['boat']\n",
      "probs:  [0.60497284]\n"
     ]
    }
   ],
   "source": [
    "labels = lp_to_names(cls_pred[0],dataset)\n",
    "keep = np.where(cls_pred[0] == 1)[-1]\n",
    "probs = cls_prob[0][keep]\n",
    "print(\"labels: \", labels)\n",
    "print(\"probs: \", probs)"
   ]
  },
  {
   "cell_type": "markdown",
   "metadata": {},
   "source": [
    "#### Evaluate val data"
   ]
  },
  {
   "cell_type": "code",
   "execution_count": 12,
   "metadata": {},
   "outputs": [
    {
     "name": "stdout",
     "output_type": "stream",
     "text": [
      "processed 0/4952\n",
      "[ALERT] exception on  000533.jpg\n",
      "processed 500/4952\n",
      "[ALERT] exception on  001744.jpg\n",
      "processed 1000/4952\n",
      "[ALERT] exception on  002018.jpg\n",
      "processed 1500/4952\n",
      "processed 2000/4952\n",
      "[ALERT] exception on  004900.jpg\n",
      "processed 2500/4952\n",
      "[ALERT] exception on  005137.jpg\n",
      "processed 3000/4952\n",
      "[ALERT] exception on  006491.jpg\n",
      "processed 3500/4952\n",
      "processed 4000/4952\n",
      "processed 4500/4952\n"
     ]
    }
   ],
   "source": [
    "cls_probs = []\n",
    "cls_preds = []\n",
    "all_lp = []\n",
    "all_labels = []\n",
    "filenames = []\n",
    "pathnames = []\n",
    "\n",
    "for i, image in enumerate(val_images):\n",
    "    if i%500 == 0:\n",
    "        print(\"processed {}/{}\".format(i, len(val_images)))\n",
    "    \n",
    "    #cls_score, cls_prob, cls_pred = im_classify(sess, net, image, val_gen)    \n",
    "    #\"\"\"\n",
    "    try:\n",
    "        cls_score, cls_prob, cls_pred = im_classify(sess, net, image, val_gen)\n",
    "    except:\n",
    "        print(\"[ALERT] exception on \", image.filename)\n",
    "        continue\n",
    "    #\"\"\"\n",
    "    filenames.append(image.filename)\n",
    "    pathnames.append(image.pathname)\n",
    "    lp = image.rois[\"gt\"][\"labels\"]\n",
    "    all_lp.append(lp)\n",
    "    labels = lp_to_names(lp, dataset)\n",
    "    all_labels.append(labels)    \n",
    "    cls_probs.append(cls_prob[0])\n",
    "    cls_preds.append(cls_pred[0])\n"
   ]
  },
  {
   "cell_type": "code",
   "execution_count": 13,
   "metadata": {},
   "outputs": [],
   "source": [
    "data = {\"filename\": filenames, \"pathname\": pathnames, \n",
    "       \"labels\": all_labels, \"lp\": all_lp, \"cls_pred\": cls_preds, \"cls_prob\": cls_probs}\n",
    "df_val_images = pd.DataFrame(data)"
   ]
  },
  {
   "cell_type": "code",
   "execution_count": 14,
   "metadata": {},
   "outputs": [
    {
     "data": {
      "text/html": [
       "<div>\n",
       "<style scoped>\n",
       "    .dataframe tbody tr th:only-of-type {\n",
       "        vertical-align: middle;\n",
       "    }\n",
       "\n",
       "    .dataframe tbody tr th {\n",
       "        vertical-align: top;\n",
       "    }\n",
       "\n",
       "    .dataframe thead th {\n",
       "        text-align: right;\n",
       "    }\n",
       "</style>\n",
       "<table border=\"1\" class=\"dataframe\">\n",
       "  <thead>\n",
       "    <tr style=\"text-align: right;\">\n",
       "      <th></th>\n",
       "      <th>filename</th>\n",
       "      <th>pathname</th>\n",
       "      <th>labels</th>\n",
       "      <th>lp</th>\n",
       "      <th>cls_pred</th>\n",
       "      <th>cls_prob</th>\n",
       "    </tr>\n",
       "  </thead>\n",
       "  <tbody>\n",
       "    <tr>\n",
       "      <th>0</th>\n",
       "      <td>000001.jpg</td>\n",
       "      <td>/home/rfm/eclipse/python/region-dh/data/voc_20...</td>\n",
       "      <td>[dog, person]</td>\n",
       "      <td>[0, 0, 0, 0, 0, 0, 0, 0, 0, 0, 0, 1, 0, 0, 1, ...</td>\n",
       "      <td>[0, 0, 0, 0, 0, 0, 0, 0, 0, 0, 0, 0, 0, 0, 1, ...</td>\n",
       "      <td>[0.058378242, 0.058418717, 0.07242037, 0.04930...</td>\n",
       "    </tr>\n",
       "    <tr>\n",
       "      <th>1</th>\n",
       "      <td>000002.jpg</td>\n",
       "      <td>/home/rfm/eclipse/python/region-dh/data/voc_20...</td>\n",
       "      <td>[train]</td>\n",
       "      <td>[0, 0, 0, 0, 0, 0, 0, 0, 0, 0, 0, 0, 0, 0, 0, ...</td>\n",
       "      <td>[0, 0, 0, 0, 0, 0, 0, 0, 0, 0, 0, 0, 0, 0, 1, ...</td>\n",
       "      <td>[0.058509976, 0.058309577, 0.07238316, 0.04915...</td>\n",
       "    </tr>\n",
       "    <tr>\n",
       "      <th>2</th>\n",
       "      <td>000003.jpg</td>\n",
       "      <td>/home/rfm/eclipse/python/region-dh/data/voc_20...</td>\n",
       "      <td>[chair, sofa]</td>\n",
       "      <td>[0, 0, 0, 0, 0, 0, 0, 0, 1, 0, 0, 0, 0, 0, 0, ...</td>\n",
       "      <td>[0, 0, 0, 0, 0, 0, 0, 0, 0, 0, 0, 0, 0, 0, 1, ...</td>\n",
       "      <td>[0.06035741, 0.060196538, 0.07445605, 0.050839...</td>\n",
       "    </tr>\n",
       "    <tr>\n",
       "      <th>3</th>\n",
       "      <td>000004.jpg</td>\n",
       "      <td>/home/rfm/eclipse/python/region-dh/data/voc_20...</td>\n",
       "      <td>[car]</td>\n",
       "      <td>[0, 0, 0, 0, 0, 0, 1, 0, 0, 0, 0, 0, 0, 0, 0, ...</td>\n",
       "      <td>[0, 0, 0, 0, 0, 0, 0, 0, 0, 0, 0, 0, 0, 0, 1, ...</td>\n",
       "      <td>[0.060373798, 0.06047984, 0.07517342, 0.051174...</td>\n",
       "    </tr>\n",
       "    <tr>\n",
       "      <th>4</th>\n",
       "      <td>000006.jpg</td>\n",
       "      <td>/home/rfm/eclipse/python/region-dh/data/voc_20...</td>\n",
       "      <td>[chair, diningtable, pottedplant]</td>\n",
       "      <td>[0, 0, 0, 0, 0, 0, 0, 0, 1, 0, 1, 0, 0, 0, 0, ...</td>\n",
       "      <td>[0, 0, 0, 0, 0, 0, 0, 0, 0, 0, 0, 0, 0, 0, 1, ...</td>\n",
       "      <td>[0.06306054, 0.06280941, 0.07706469, 0.0531831...</td>\n",
       "    </tr>\n",
       "  </tbody>\n",
       "</table>\n",
       "</div>"
      ],
      "text/plain": [
       "     filename                                           pathname  \\\n",
       "0  000001.jpg  /home/rfm/eclipse/python/region-dh/data/voc_20...   \n",
       "1  000002.jpg  /home/rfm/eclipse/python/region-dh/data/voc_20...   \n",
       "2  000003.jpg  /home/rfm/eclipse/python/region-dh/data/voc_20...   \n",
       "3  000004.jpg  /home/rfm/eclipse/python/region-dh/data/voc_20...   \n",
       "4  000006.jpg  /home/rfm/eclipse/python/region-dh/data/voc_20...   \n",
       "\n",
       "                              labels  \\\n",
       "0                      [dog, person]   \n",
       "1                            [train]   \n",
       "2                      [chair, sofa]   \n",
       "3                              [car]   \n",
       "4  [chair, diningtable, pottedplant]   \n",
       "\n",
       "                                                  lp  \\\n",
       "0  [0, 0, 0, 0, 0, 0, 0, 0, 0, 0, 0, 1, 0, 0, 1, ...   \n",
       "1  [0, 0, 0, 0, 0, 0, 0, 0, 0, 0, 0, 0, 0, 0, 0, ...   \n",
       "2  [0, 0, 0, 0, 0, 0, 0, 0, 1, 0, 0, 0, 0, 0, 0, ...   \n",
       "3  [0, 0, 0, 0, 0, 0, 1, 0, 0, 0, 0, 0, 0, 0, 0, ...   \n",
       "4  [0, 0, 0, 0, 0, 0, 0, 0, 1, 0, 1, 0, 0, 0, 0, ...   \n",
       "\n",
       "                                            cls_pred  \\\n",
       "0  [0, 0, 0, 0, 0, 0, 0, 0, 0, 0, 0, 0, 0, 0, 1, ...   \n",
       "1  [0, 0, 0, 0, 0, 0, 0, 0, 0, 0, 0, 0, 0, 0, 1, ...   \n",
       "2  [0, 0, 0, 0, 0, 0, 0, 0, 0, 0, 0, 0, 0, 0, 1, ...   \n",
       "3  [0, 0, 0, 0, 0, 0, 0, 0, 0, 0, 0, 0, 0, 0, 1, ...   \n",
       "4  [0, 0, 0, 0, 0, 0, 0, 0, 0, 0, 0, 0, 0, 0, 1, ...   \n",
       "\n",
       "                                            cls_prob  \n",
       "0  [0.058378242, 0.058418717, 0.07242037, 0.04930...  \n",
       "1  [0.058509976, 0.058309577, 0.07238316, 0.04915...  \n",
       "2  [0.06035741, 0.060196538, 0.07445605, 0.050839...  \n",
       "3  [0.060373798, 0.06047984, 0.07517342, 0.051174...  \n",
       "4  [0.06306054, 0.06280941, 0.07706469, 0.0531831...  "
      ]
     },
     "execution_count": 14,
     "metadata": {},
     "output_type": "execute_result"
    }
   ],
   "source": [
    "df_val_images.head()"
   ]
  },
  {
   "cell_type": "code",
   "execution_count": 15,
   "metadata": {},
   "outputs": [],
   "source": [
    "with open(\"../data/voc_2007/20180804_df_val_images_ssdh.wl2.pkl\",'wb') as fp:\n",
    "    pickle.dump(df_val_images, fp)"
   ]
  },
  {
   "cell_type": "code",
   "execution_count": 16,
   "metadata": {},
   "outputs": [],
   "source": [
    "cls_to_id = dataset.cls_to_id\n",
    "id_to_cls = {v:k for (k,v) in cls_to_id.items()}"
   ]
  },
  {
   "cell_type": "code",
   "execution_count": 17,
   "metadata": {},
   "outputs": [
    {
     "name": "stdout",
     "output_type": "stream",
     "text": [
      "(4946, 20)\n"
     ]
    }
   ],
   "source": [
    "targets = np.array(list(df_val_images[\"lp\"]))\n",
    "targets = np.reshape(targets, [targets.shape[0], -1])\n",
    "print(targets.shape)"
   ]
  },
  {
   "cell_type": "code",
   "execution_count": 18,
   "metadata": {},
   "outputs": [
    {
     "name": "stdout",
     "output_type": "stream",
     "text": [
      "(4946, 20)\n"
     ]
    }
   ],
   "source": [
    "preds = np.array(list(df_val_images[\"cls_pred\"]))\n",
    "preds = np.reshape(preds, [preds.shape[0], -1])\n",
    "print(preds.shape)"
   ]
  },
  {
   "cell_type": "code",
   "execution_count": 19,
   "metadata": {},
   "outputs": [],
   "source": [
    "from sklearn.metrics import precision_score, recall_score"
   ]
  },
  {
   "cell_type": "code",
   "execution_count": 20,
   "metadata": {},
   "outputs": [
    {
     "name": "stderr",
     "output_type": "stream",
     "text": [
      "/home/franck/.conda/envs/tensorflow_py36/lib/python3.6/site-packages/sklearn/metrics/classification.py:1135: UndefinedMetricWarning: Precision is ill-defined and being set to 0.0 in labels with no predicted samples.\n",
      "  'precision', 'predicted', average, warn_for)\n"
     ]
    }
   ],
   "source": [
    "evals = {}\n",
    "mAP = 0\n",
    "\n",
    "for id_cls in range(targets.shape[1]):\n",
    "    prec = precision_score(targets[:, id_cls], preds[:, id_cls], average='weighted')\n",
    "    rec = recall_score(targets[:, id_cls], preds[:, id_cls], average='weighted')\n",
    "    \n",
    "    if prec <= 0 or rec <= 0:\n",
    "        f1_score = 0\n",
    "    else:\n",
    "        f1_score = 2*prec*prec/(prec+rec)\n",
    "        \n",
    "    evals[id_to_cls[id_cls+1]] = [f1_score]\n",
    "    mAP += f1_score\n",
    "    \n",
    "mAP = mAP/targets.shape[1]\n",
    "evals[\"mAP\"] = [mAP]\n",
    "    \n",
    "df_evals= pd.DataFrame(evals)"
   ]
  },
  {
   "cell_type": "code",
   "execution_count": 21,
   "metadata": {},
   "outputs": [
    {
     "data": {
      "text/html": [
       "<div>\n",
       "<style scoped>\n",
       "    .dataframe tbody tr th:only-of-type {\n",
       "        vertical-align: middle;\n",
       "    }\n",
       "\n",
       "    .dataframe tbody tr th {\n",
       "        vertical-align: top;\n",
       "    }\n",
       "\n",
       "    .dataframe thead th {\n",
       "        text-align: right;\n",
       "    }\n",
       "</style>\n",
       "<table border=\"1\" class=\"dataframe\">\n",
       "  <thead>\n",
       "    <tr style=\"text-align: right;\">\n",
       "      <th></th>\n",
       "      <th>aeroplane</th>\n",
       "      <th>bicycle</th>\n",
       "      <th>bird</th>\n",
       "      <th>boat</th>\n",
       "      <th>bottle</th>\n",
       "      <th>bus</th>\n",
       "      <th>car</th>\n",
       "      <th>cat</th>\n",
       "      <th>chair</th>\n",
       "      <th>cow</th>\n",
       "      <th>...</th>\n",
       "      <th>dog</th>\n",
       "      <th>horse</th>\n",
       "      <th>motorbike</th>\n",
       "      <th>person</th>\n",
       "      <th>pottedplant</th>\n",
       "      <th>sheep</th>\n",
       "      <th>sofa</th>\n",
       "      <th>train</th>\n",
       "      <th>tvmonitor</th>\n",
       "      <th>mAP</th>\n",
       "    </tr>\n",
       "  </thead>\n",
       "  <tbody>\n",
       "    <tr>\n",
       "      <th>0</th>\n",
       "      <td>0.899378</td>\n",
       "      <td>0.87809</td>\n",
       "      <td>0.859872</td>\n",
       "      <td>0.913249</td>\n",
       "      <td>0.882796</td>\n",
       "      <td>0.90989</td>\n",
       "      <td>0.650714</td>\n",
       "      <td>0.840034</td>\n",
       "      <td>0.745596</td>\n",
       "      <td>0.936958</td>\n",
       "      <td>...</td>\n",
       "      <td>0.794905</td>\n",
       "      <td>0.864522</td>\n",
       "      <td>0.886571</td>\n",
       "      <td>0.680138</td>\n",
       "      <td>0.876681</td>\n",
       "      <td>0.952134</td>\n",
       "      <td>0.83044</td>\n",
       "      <td>0.873866</td>\n",
       "      <td>0.875742</td>\n",
       "      <td>0.851554</td>\n",
       "    </tr>\n",
       "  </tbody>\n",
       "</table>\n",
       "<p>1 rows × 21 columns</p>\n",
       "</div>"
      ],
      "text/plain": [
       "   aeroplane  bicycle      bird      boat    bottle      bus       car  \\\n",
       "0   0.899378  0.87809  0.859872  0.913249  0.882796  0.90989  0.650714   \n",
       "\n",
       "        cat     chair       cow    ...          dog     horse  motorbike  \\\n",
       "0  0.840034  0.745596  0.936958    ...     0.794905  0.864522   0.886571   \n",
       "\n",
       "     person  pottedplant     sheep     sofa     train  tvmonitor       mAP  \n",
       "0  0.680138     0.876681  0.952134  0.83044  0.873866   0.875742  0.851554  \n",
       "\n",
       "[1 rows x 21 columns]"
      ]
     },
     "execution_count": 21,
     "metadata": {},
     "output_type": "execute_result"
    }
   ],
   "source": [
    "# ssdh, wl.2\n",
    "df_evals.head()"
   ]
  },
  {
   "cell_type": "code",
   "execution_count": 21,
   "metadata": {},
   "outputs": [
    {
     "data": {
      "text/html": [
       "<div>\n",
       "<style scoped>\n",
       "    .dataframe tbody tr th:only-of-type {\n",
       "        vertical-align: middle;\n",
       "    }\n",
       "\n",
       "    .dataframe tbody tr th {\n",
       "        vertical-align: top;\n",
       "    }\n",
       "\n",
       "    .dataframe thead th {\n",
       "        text-align: right;\n",
       "    }\n",
       "</style>\n",
       "<table border=\"1\" class=\"dataframe\">\n",
       "  <thead>\n",
       "    <tr style=\"text-align: right;\">\n",
       "      <th></th>\n",
       "      <th>aeroplane</th>\n",
       "      <th>bicycle</th>\n",
       "      <th>bird</th>\n",
       "      <th>boat</th>\n",
       "      <th>bottle</th>\n",
       "      <th>bus</th>\n",
       "      <th>car</th>\n",
       "      <th>cat</th>\n",
       "      <th>chair</th>\n",
       "      <th>cow</th>\n",
       "      <th>...</th>\n",
       "      <th>dog</th>\n",
       "      <th>horse</th>\n",
       "      <th>motorbike</th>\n",
       "      <th>person</th>\n",
       "      <th>pottedplant</th>\n",
       "      <th>sheep</th>\n",
       "      <th>sofa</th>\n",
       "      <th>train</th>\n",
       "      <th>tvmonitor</th>\n",
       "      <th>mAP</th>\n",
       "    </tr>\n",
       "  </thead>\n",
       "  <tbody>\n",
       "    <tr>\n",
       "      <th>0</th>\n",
       "      <td>0.993052</td>\n",
       "      <td>0.983983</td>\n",
       "      <td>0.986421</td>\n",
       "      <td>0.989828</td>\n",
       "      <td>0.958817</td>\n",
       "      <td>0.983571</td>\n",
       "      <td>0.938369</td>\n",
       "      <td>0.983758</td>\n",
       "      <td>0.933821</td>\n",
       "      <td>0.988076</td>\n",
       "      <td>...</td>\n",
       "      <td>0.973615</td>\n",
       "      <td>0.982413</td>\n",
       "      <td>0.983188</td>\n",
       "      <td>0.871855</td>\n",
       "      <td>0.959349</td>\n",
       "      <td>0.990862</td>\n",
       "      <td>0.951772</td>\n",
       "      <td>0.98795</td>\n",
       "      <td>0.970583</td>\n",
       "      <td>0.969414</td>\n",
       "    </tr>\n",
       "  </tbody>\n",
       "</table>\n",
       "<p>1 rows × 21 columns</p>\n",
       "</div>"
      ],
      "text/plain": [
       "   aeroplane   bicycle      bird      boat    bottle       bus       car  \\\n",
       "0   0.993052  0.983983  0.986421  0.989828  0.958817  0.983571  0.938369   \n",
       "\n",
       "        cat     chair       cow    ...          dog     horse  motorbike  \\\n",
       "0  0.983758  0.933821  0.988076    ...     0.973615  0.982413   0.983188   \n",
       "\n",
       "     person  pottedplant     sheep      sofa    train  tvmonitor       mAP  \n",
       "0  0.871855     0.959349  0.990862  0.951772  0.98795   0.970583  0.969414  \n",
       "\n",
       "[1 rows x 21 columns]"
      ]
     },
     "execution_count": 21,
     "metadata": {},
     "output_type": "execute_result"
    }
   ],
   "source": [
    "# wl.4\n",
    "df_evals.head()"
   ]
  },
  {
   "cell_type": "code",
   "execution_count": 20,
   "metadata": {},
   "outputs": [
    {
     "data": {
      "text/html": [
       "<div>\n",
       "<style scoped>\n",
       "    .dataframe tbody tr th:only-of-type {\n",
       "        vertical-align: middle;\n",
       "    }\n",
       "\n",
       "    .dataframe tbody tr th {\n",
       "        vertical-align: top;\n",
       "    }\n",
       "\n",
       "    .dataframe thead th {\n",
       "        text-align: right;\n",
       "    }\n",
       "</style>\n",
       "<table border=\"1\" class=\"dataframe\">\n",
       "  <thead>\n",
       "    <tr style=\"text-align: right;\">\n",
       "      <th></th>\n",
       "      <th>aeroplane</th>\n",
       "      <th>bicycle</th>\n",
       "      <th>bird</th>\n",
       "      <th>boat</th>\n",
       "      <th>bottle</th>\n",
       "      <th>bus</th>\n",
       "      <th>car</th>\n",
       "      <th>cat</th>\n",
       "      <th>chair</th>\n",
       "      <th>cow</th>\n",
       "      <th>...</th>\n",
       "      <th>dog</th>\n",
       "      <th>horse</th>\n",
       "      <th>motorbike</th>\n",
       "      <th>person</th>\n",
       "      <th>pottedplant</th>\n",
       "      <th>sheep</th>\n",
       "      <th>sofa</th>\n",
       "      <th>train</th>\n",
       "      <th>tvmonitor</th>\n",
       "      <th>mAP</th>\n",
       "    </tr>\n",
       "  </thead>\n",
       "  <tbody>\n",
       "    <tr>\n",
       "      <th>0</th>\n",
       "      <td>0.990101</td>\n",
       "      <td>0.985251</td>\n",
       "      <td>0.984076</td>\n",
       "      <td>0.98702</td>\n",
       "      <td>0.94918</td>\n",
       "      <td>0.983165</td>\n",
       "      <td>0.946772</td>\n",
       "      <td>0.98219</td>\n",
       "      <td>0.917613</td>\n",
       "      <td>0.977977</td>\n",
       "      <td>...</td>\n",
       "      <td>0.967671</td>\n",
       "      <td>0.981779</td>\n",
       "      <td>0.983974</td>\n",
       "      <td>0.90135</td>\n",
       "      <td>0.94048</td>\n",
       "      <td>0.988135</td>\n",
       "      <td>0.946476</td>\n",
       "      <td>0.989187</td>\n",
       "      <td>0.96784</td>\n",
       "      <td>0.967092</td>\n",
       "    </tr>\n",
       "  </tbody>\n",
       "</table>\n",
       "<p>1 rows × 21 columns</p>\n",
       "</div>"
      ],
      "text/plain": [
       "   aeroplane   bicycle      bird     boat   bottle       bus       car  \\\n",
       "0   0.990101  0.985251  0.984076  0.98702  0.94918  0.983165  0.946772   \n",
       "\n",
       "       cat     chair       cow    ...          dog     horse  motorbike  \\\n",
       "0  0.98219  0.917613  0.977977    ...     0.967671  0.981779   0.983974   \n",
       "\n",
       "    person  pottedplant     sheep      sofa     train  tvmonitor       mAP  \n",
       "0  0.90135      0.94048  0.988135  0.946476  0.989187    0.96784  0.967092  \n",
       "\n",
       "[1 rows x 21 columns]"
      ]
     },
     "execution_count": 20,
     "metadata": {},
     "output_type": "execute_result"
    }
   ],
   "source": [
    "# wl.3\n",
    "df_evals.head()"
   ]
  },
  {
   "cell_type": "code",
   "execution_count": 20,
   "metadata": {},
   "outputs": [
    {
     "data": {
      "text/html": [
       "<div>\n",
       "<style scoped>\n",
       "    .dataframe tbody tr th:only-of-type {\n",
       "        vertical-align: middle;\n",
       "    }\n",
       "\n",
       "    .dataframe tbody tr th {\n",
       "        vertical-align: top;\n",
       "    }\n",
       "\n",
       "    .dataframe thead th {\n",
       "        text-align: right;\n",
       "    }\n",
       "</style>\n",
       "<table border=\"1\" class=\"dataframe\">\n",
       "  <thead>\n",
       "    <tr style=\"text-align: right;\">\n",
       "      <th></th>\n",
       "      <th>aeroplane</th>\n",
       "      <th>bicycle</th>\n",
       "      <th>bird</th>\n",
       "      <th>boat</th>\n",
       "      <th>bottle</th>\n",
       "      <th>bus</th>\n",
       "      <th>car</th>\n",
       "      <th>cat</th>\n",
       "      <th>chair</th>\n",
       "      <th>cow</th>\n",
       "      <th>...</th>\n",
       "      <th>dog</th>\n",
       "      <th>horse</th>\n",
       "      <th>motorbike</th>\n",
       "      <th>person</th>\n",
       "      <th>pottedplant</th>\n",
       "      <th>sheep</th>\n",
       "      <th>sofa</th>\n",
       "      <th>train</th>\n",
       "      <th>tvmonitor</th>\n",
       "      <th>mAP</th>\n",
       "    </tr>\n",
       "  </thead>\n",
       "  <tbody>\n",
       "    <tr>\n",
       "      <th>0</th>\n",
       "      <td>0.993052</td>\n",
       "      <td>0.984142</td>\n",
       "      <td>0.986477</td>\n",
       "      <td>0.990037</td>\n",
       "      <td>0.958702</td>\n",
       "      <td>0.983571</td>\n",
       "      <td>0.939336</td>\n",
       "      <td>0.983525</td>\n",
       "      <td>0.933763</td>\n",
       "      <td>0.987727</td>\n",
       "      <td>...</td>\n",
       "      <td>0.974554</td>\n",
       "      <td>0.982266</td>\n",
       "      <td>0.983205</td>\n",
       "      <td>0.872043</td>\n",
       "      <td>0.957893</td>\n",
       "      <td>0.990786</td>\n",
       "      <td>0.95163</td>\n",
       "      <td>0.98795</td>\n",
       "      <td>0.970391</td>\n",
       "      <td>0.969393</td>\n",
       "    </tr>\n",
       "  </tbody>\n",
       "</table>\n",
       "<p>1 rows × 21 columns</p>\n",
       "</div>"
      ],
      "text/plain": [
       "   aeroplane   bicycle      bird      boat    bottle       bus       car  \\\n",
       "0   0.993052  0.984142  0.986477  0.990037  0.958702  0.983571  0.939336   \n",
       "\n",
       "        cat     chair       cow    ...          dog     horse  motorbike  \\\n",
       "0  0.983525  0.933763  0.987727    ...     0.974554  0.982266   0.983205   \n",
       "\n",
       "     person  pottedplant     sheep     sofa    train  tvmonitor       mAP  \n",
       "0  0.872043     0.957893  0.990786  0.95163  0.98795   0.970391  0.969393  \n",
       "\n",
       "[1 rows x 21 columns]"
      ]
     },
     "execution_count": 20,
     "metadata": {},
     "output_type": "execute_result"
    }
   ],
   "source": [
    "# wl.2\n",
    "df_evals.head()"
   ]
  },
  {
   "cell_type": "code",
   "execution_count": 64,
   "metadata": {},
   "outputs": [
    {
     "data": {
      "text/html": [
       "<div>\n",
       "<style scoped>\n",
       "    .dataframe tbody tr th:only-of-type {\n",
       "        vertical-align: middle;\n",
       "    }\n",
       "\n",
       "    .dataframe tbody tr th {\n",
       "        vertical-align: top;\n",
       "    }\n",
       "\n",
       "    .dataframe thead th {\n",
       "        text-align: right;\n",
       "    }\n",
       "</style>\n",
       "<table border=\"1\" class=\"dataframe\">\n",
       "  <thead>\n",
       "    <tr style=\"text-align: right;\">\n",
       "      <th></th>\n",
       "      <th>aeroplane</th>\n",
       "      <th>bicycle</th>\n",
       "      <th>bird</th>\n",
       "      <th>boat</th>\n",
       "      <th>bottle</th>\n",
       "      <th>bus</th>\n",
       "      <th>car</th>\n",
       "      <th>cat</th>\n",
       "      <th>chair</th>\n",
       "      <th>cow</th>\n",
       "      <th>...</th>\n",
       "      <th>dog</th>\n",
       "      <th>horse</th>\n",
       "      <th>motorbike</th>\n",
       "      <th>person</th>\n",
       "      <th>pottedplant</th>\n",
       "      <th>sheep</th>\n",
       "      <th>sofa</th>\n",
       "      <th>train</th>\n",
       "      <th>tvmonitor</th>\n",
       "      <th>mAP</th>\n",
       "    </tr>\n",
       "  </thead>\n",
       "  <tbody>\n",
       "    <tr>\n",
       "      <th>0</th>\n",
       "      <td>0.989883</td>\n",
       "      <td>0.9851</td>\n",
       "      <td>0.983481</td>\n",
       "      <td>0.986652</td>\n",
       "      <td>0.947858</td>\n",
       "      <td>0.982931</td>\n",
       "      <td>0.945889</td>\n",
       "      <td>0.981869</td>\n",
       "      <td>0.914532</td>\n",
       "      <td>0.977797</td>\n",
       "      <td>...</td>\n",
       "      <td>0.967398</td>\n",
       "      <td>0.982287</td>\n",
       "      <td>0.983795</td>\n",
       "      <td>0.901293</td>\n",
       "      <td>0.942819</td>\n",
       "      <td>0.987618</td>\n",
       "      <td>0.945761</td>\n",
       "      <td>0.988716</td>\n",
       "      <td>0.966327</td>\n",
       "      <td>0.966652</td>\n",
       "    </tr>\n",
       "  </tbody>\n",
       "</table>\n",
       "<p>1 rows × 21 columns</p>\n",
       "</div>"
      ],
      "text/plain": [
       "   aeroplane  bicycle      bird      boat    bottle       bus       car  \\\n",
       "0   0.989883   0.9851  0.983481  0.986652  0.947858  0.982931  0.945889   \n",
       "\n",
       "        cat     chair       cow    ...          dog     horse  motorbike  \\\n",
       "0  0.981869  0.914532  0.977797    ...     0.967398  0.982287   0.983795   \n",
       "\n",
       "     person  pottedplant     sheep      sofa     train  tvmonitor       mAP  \n",
       "0  0.901293     0.942819  0.987618  0.945761  0.988716   0.966327  0.966652  \n",
       "\n",
       "[1 rows x 21 columns]"
      ]
     },
     "execution_count": 64,
     "metadata": {},
     "output_type": "execute_result"
    }
   ],
   "source": [
    "# wl.1\n",
    "df_evals.head()"
   ]
  },
  {
   "cell_type": "code",
   "execution_count": 22,
   "metadata": {},
   "outputs": [],
   "source": [
    "#evals"
   ]
  },
  {
   "cell_type": "code",
   "execution_count": 22,
   "metadata": {},
   "outputs": [],
   "source": [
    "#df_evals.to_csv(\"../data/voc_2007/20180804_df_evals_ssdh.wl2.csv\")"
   ]
  },
  {
   "cell_type": "code",
   "execution_count": null,
   "metadata": {},
   "outputs": [],
   "source": []
  }
 ],
 "metadata": {
  "kernelspec": {
   "display_name": "tensorflow_py36",
   "language": "python",
   "name": "tensorflow_py36"
  },
  "language_info": {
   "codemirror_mode": {
    "name": "ipython",
    "version": 3
   },
   "file_extension": ".py",
   "mimetype": "text/x-python",
   "name": "python",
   "nbconvert_exporter": "python",
   "pygments_lexer": "ipython3",
   "version": "3.6.2"
  }
 },
 "nbformat": 4,
 "nbformat_minor": 2
}
