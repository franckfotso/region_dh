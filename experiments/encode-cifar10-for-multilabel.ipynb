{
 "cells": [
  {
   "cell_type": "code",
   "execution_count": 29,
   "metadata": {},
   "outputs": [],
   "source": [
    "import _init_paths\n",
    "import os, sys, cv2\n",
    "import os.path as osp\n",
    "import numpy as np\n",
    "from shutil import copyfile\n",
    "\n",
    "from Config import Config\n",
    "from datasets.CIFAR10 import CIFAR10"
   ]
  },
  {
   "cell_type": "code",
   "execution_count": 4,
   "metadata": {},
   "outputs": [],
   "source": [
    "# setup & load configs\n",
    "_C = Config(config_pn=\"../config/config.ini\")\n",
    "cfg = _C.cfg"
   ]
  },
  {
   "cell_type": "code",
   "execution_count": 17,
   "metadata": {},
   "outputs": [],
   "source": [
    "train_dir = \"../data/cifar10/train/\"\n",
    "val_dir = \"../data/cifar10/val/\""
   ]
  },
  {
   "cell_type": "code",
   "execution_count": 8,
   "metadata": {},
   "outputs": [
    {
     "name": "stdout",
     "output_type": "stream",
     "text": [
      "[INFO] dataset.name: cifar10\n",
      "[INFO] dataset.num_cls: 10\n",
      "[INFO] dataset.train: 50000\n",
      "[INFO] dataset.trainval: 0\n",
      "[INFO] dataset.test: 0\n",
      "[INFO] dataset.val: 10000\n"
     ]
    }
   ],
   "source": [
    "dataset_DIR = osp.join(cfg.MAIN_DIR_ROOT, \"data\", \"cifar10\")\n",
    "dataset = CIFAR10(name=\"cifar10\", path_dir=dataset_DIR, cfg=cfg)\n",
    "dataset.load_sets()\n",
    "print ('[INFO] dataset.name: {}'.format(dataset.name))\n",
    "print ('[INFO] dataset.num_cls: {}'.format(dataset.num_cls))\n",
    "print ('[INFO] dataset.train: {}'.format(dataset.sets[\"train\"][\"num_items\"]))\n",
    "print ('[INFO] dataset.trainval: {}'.format(dataset.sets[\"trainval\"][\"num_items\"]))\n",
    "print ('[INFO] dataset.test: {}'.format(dataset.sets[\"test\"][\"num_items\"]))\n",
    "print ('[INFO] dataset.val: {}'.format(dataset.sets[\"val\"][\"num_items\"]))"
   ]
  },
  {
   "cell_type": "code",
   "execution_count": 9,
   "metadata": {},
   "outputs": [],
   "source": [
    "out_train = \"../data/cifar10_m/train/\"\n",
    "out_val = \"../data/cifar10_m/val/\""
   ]
  },
  {
   "cell_type": "code",
   "execution_count": 18,
   "metadata": {},
   "outputs": [],
   "source": [
    "train_dirs = os.listdir(train_dir)\n",
    "val_dirs = os.listdir(val_dir)"
   ]
  },
  {
   "cell_type": "code",
   "execution_count": 30,
   "metadata": {},
   "outputs": [],
   "source": [
    "# train\n",
    "for label in train_dirs:\n",
    "    arr_label = np.zeros((dataset.num_cls))\n",
    "    arr_label[int(label)] = 1\n",
    "    e_label = ''.join([str(int(v)) for v in list(arr_label)])\n",
    "    #print(\"e_label: \", e_label)\n",
    "    \n",
    "    dst_dir = os.path.join(out_train, e_label)\n",
    "    src_dir = os.path.join(train_dir, label)\n",
    "    \n",
    "    if not os.path.exists(dst_dir):\n",
    "        os.mkdir(dst_dir)\n",
    "        \n",
    "    im_fns = os.listdir(src_dir)\n",
    "    \n",
    "    for im_fn in im_fns:\n",
    "        src_pn = os.path.join(src_dir, im_fn)\n",
    "        dst_pn = os.path.join(dst_dir, im_fn)\n",
    "        copyfile(src_pn, dst_pn)"
   ]
  },
  {
   "cell_type": "code",
   "execution_count": 32,
   "metadata": {},
   "outputs": [],
   "source": [
    "# val\n",
    "for label in val_dirs:\n",
    "    arr_label = np.zeros((dataset.num_cls))\n",
    "    arr_label[int(label)] = 1\n",
    "    e_label = ''.join([str(int(v)) for v in list(arr_label)])\n",
    "    #print(\"e_label: \", e_label)\n",
    "    \n",
    "    dst_dir = os.path.join(out_val, e_label)\n",
    "    src_dir = os.path.join(val_dir, label)\n",
    "    \n",
    "    if not os.path.exists(dst_dir):\n",
    "        os.mkdir(dst_dir)\n",
    "        \n",
    "    im_fns = os.listdir(src_dir)\n",
    "    \n",
    "    for im_fn in im_fns:\n",
    "        src_pn = os.path.join(src_dir, im_fn)\n",
    "        dst_pn = os.path.join(dst_dir, im_fn)\n",
    "        copyfile(src_pn, dst_pn)"
   ]
  },
  {
   "cell_type": "code",
   "execution_count": 19,
   "metadata": {},
   "outputs": [
    {
     "data": {
      "text/plain": [
       "['9', '5', '4', '3', '2', '6', '8', '0', '7', '1']"
      ]
     },
     "execution_count": 19,
     "metadata": {},
     "output_type": "execute_result"
    }
   ],
   "source": []
  },
  {
   "cell_type": "code",
   "execution_count": 26,
   "metadata": {},
   "outputs": [
    {
     "data": {
      "text/plain": [
       "{'airplane': 0,\n",
       " 'automobile': 1,\n",
       " 'bird': 2,\n",
       " 'cat': 3,\n",
       " 'deer': 4,\n",
       " 'dog': 5,\n",
       " 'frog': 6,\n",
       " 'horse': 7,\n",
       " 'ship': 8,\n",
       " 'truck': 9}"
      ]
     },
     "execution_count": 26,
     "metadata": {},
     "output_type": "execute_result"
    }
   ],
   "source": [
    "dataset.cls_to_id"
   ]
  },
  {
   "cell_type": "code",
   "execution_count": null,
   "metadata": {},
   "outputs": [],
   "source": []
  }
 ],
 "metadata": {
  "kernelspec": {
   "display_name": "tensorflow_py36",
   "language": "python",
   "name": "tensorflow_py36"
  },
  "language_info": {
   "codemirror_mode": {
    "name": "ipython",
    "version": 3
   },
   "file_extension": ".py",
   "mimetype": "text/x-python",
   "name": "python",
   "nbconvert_exporter": "python",
   "pygments_lexer": "ipython3",
   "version": "3.6.2"
  }
 },
 "nbformat": 4,
 "nbformat_minor": 2
}
